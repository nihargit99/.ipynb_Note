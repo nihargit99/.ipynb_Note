{
 "cells": [
  {
   "cell_type": "code",
   "execution_count": 121,
   "id": "440e67a1",
   "metadata": {},
   "outputs": [],
   "source": [
    "import numpy as np\n",
    "import pandas as pd\n",
    "import matplotlib.pyplot as plt\n",
    "import seaborn as sns\n",
    "import math\n",
    "from scipy.stats import norm\n",
    "from scipy.stats import binom,geom\n",
    "from scipy.stats import ttest_1samp,ttest_ind, ttest_rel\n",
    "from scipy.stats import chi2_contingency,chisquare,chi2\n",
    "from scipy.stats import f_oneway,kruskal,shapiro,levene\n",
    "from statsmodels.graphics.gofplots import qqplot\n",
    "from scipy.stats import poisson"
   ]
  },
  {
   "cell_type": "markdown",
   "id": "3111520d",
   "metadata": {},
   "source": [
    "# Hypothesis Testing Framework"
   ]
  },
  {
   "cell_type": "markdown",
   "id": "fc8ec16d",
   "metadata": {},
   "source": [
    "Q1.A group of people have volunteered to try out a diet for weight loss for 3 months. How should the null and alternate hypothesis be set up?\n",
    "\n",
    "Ans.\n",
    "\n",
    "H0: Diet has no impact on weight;\n",
    "\n",
    "Ha: Diet reduces weight"
   ]
  },
  {
   "cell_type": "markdown",
   "id": "689e3791",
   "metadata": {},
   "source": [
    "Q2.A test is done to detect if a person has a virus. What is the null (H0) and alternate (Ha) hypothesis\n",
    "\n",
    "Ans.\n",
    "\n",
    "H0: Patient has no virus;\n",
    "\n",
    "Ha: Patient has virus"
   ]
  },
  {
   "cell_type": "markdown",
   "id": "fae1e076",
   "metadata": {},
   "source": [
    "Q3.The verbal reasoning in GRE has an average score of 150, and a standard deviation of 8.5. A coaching center claims to improve these numbers for their students. How should the null and alternate hypothesis be set up?\n",
    "\n",
    "Ans.\n",
    "\n",
    "H0: Coaching does not improve score;\n",
    "\n",
    "Ha: Coaching improves score"
   ]
  },
  {
   "cell_type": "markdown",
   "id": "612a3a79",
   "metadata": {},
   "source": [
    "Q4.Weekly sales of shampoo bottles has an average of 1800 . A marketing company feels that this can be improved with right advertisement and promotions. What should the null and alternate hypothesis be, to validate their claim? Let μ denote the average sales after marketing.\n",
    "\n",
    "Ans.\n",
    "\n",
    "H0:μ=1800 and Ha:μ>1800\n",
    "\n",
    "Exp-\n",
    "\n",
    "Since the default assumption here is that the marketing has no effect, we set up the null hypothesis as H0:μ=1800\n",
    "\n",
    "Now the claim is that the sales will improve. Thus, the alternate hypothesis here should be Ha:μ>1800\n"
   ]
  },
  {
   "cell_type": "markdown",
   "id": "b243a5d7",
   "metadata": {},
   "source": [
    "Q5.In a court case, the null hypothesis is that the defendant is innocent. Identify the Type-2 error among the following.\n",
    "\n",
    "Ans.\n",
    "\n",
    "The defendant is guilty, but the judge pronounces him innocent\n",
    "\n",
    "Exp-\n",
    "\n",
    "The null and alternate hypothesis are:\n",
    "\n",
    "Null hypothesis (H0) : the defendant is innocent \n",
    "\n",
    "Alternate hypothesis (Ha): the defendant is guilty\n",
    "\n",
    "Type-2 error is when the null hypothesis is false, but we fail to reject the null hypothesis (false negative). Since the null hypothesis is that the defendant is innocent, the type 2 error occurs when defendant is guilty, but the judge wrongly pronounces him innocent.\n",
    "\n",
    "\n"
   ]
  },
  {
   "cell_type": "markdown",
   "id": "79eda6ee",
   "metadata": {},
   "source": [
    "Q6.When you ride your bike, the null hypothesis H0 is that the bike is safe to drive. Which of these is a Type-1 error?\n",
    "\n",
    "Ans.\n",
    "\n",
    "The bike is safe, but you think it is not safe\n",
    "\n",
    "Exp-\n",
    "\n",
    "Null hypothesis (H0) : the bike is safe to drive \n",
    "\n",
    "Alternate hypothesis (Ha): the bike is not safe to drive\n",
    "\n",
    "Type-1 error is when the null hypothesis is true, but we reject the null hypothesis (false positive). Since the null hypothesis is that the bike is safe, the type 1 error occurs when the bike is safe but we wrongly think that it is not safe"
   ]
  },
  {
   "cell_type": "markdown",
   "id": "4501d6b8",
   "metadata": {},
   "source": [
    "# ClassWork/Notes of Hypothesis Testing"
   ]
  },
  {
   "cell_type": "markdown",
   "id": "68ac94f5",
   "metadata": {},
   "source": [
    "1.Type-1 & Type-2 Error"
   ]
  },
  {
   "cell_type": "markdown",
   "id": "8a9e94f2",
   "metadata": {},
   "source": [
    "Type-1: When the Null Hypothesis is true but we reject the Null Hypothesis\n",
    "    \n",
    "Type-2: When the Null Hypothesis is false but we accept the Null Hypothesis"
   ]
  },
  {
   "cell_type": "markdown",
   "id": "2809bbf6",
   "metadata": {},
   "source": [
    "2.H0=No Virus\n",
    "\n",
    "Ha=There is Virus\n",
    "\n",
    "if answer is \"False Negative\" then Consider it as Type-2 Error and \"True Negative\" then consider it as Type-1 error"
   ]
  },
  {
   "cell_type": "markdown",
   "id": "fbe5f599",
   "metadata": {},
   "source": [
    "3.If P_val>alpha:\n",
    "\n",
    "    Print(H0)\n",
    "    \n",
    "else:\n",
    "\n",
    "    print(Ha)"
   ]
  },
  {
   "cell_type": "markdown",
   "id": "ebe9a5ce",
   "metadata": {},
   "source": [
    "# Z-Test"
   ]
  },
  {
   "cell_type": "markdown",
   "id": "72cbc949",
   "metadata": {},
   "source": [
    "Q1.A country has a population average height of 65 inches with standard deviation of 2.5. A person feels people from his state are shorter. He takes the average of 20 people, and sees that it is 64.5. At a 5% significance level (or 95% confidence level), can we conclude that people from his state are shorter, using the Z-test? What is the p-value?"
   ]
  },
  {
   "cell_type": "code",
   "execution_count": 2,
   "id": "bef819bb",
   "metadata": {},
   "outputs": [
    {
     "name": "stdout",
     "output_type": "stream",
     "text": [
      "z_stats:  -0.8944271909999159\n",
      "p_val:  0.18554668476134878\n",
      "Do not Reject Ho\n",
      "People are not shorter\n"
     ]
    }
   ],
   "source": [
    "#H0 : Not shorter\n",
    "#Ha : Shorter\n",
    "#left tailed\n",
    "\n",
    "pop_mean=65\n",
    "std_dev=2.5\n",
    "sam_mean=64.5\n",
    "n=20\n",
    "sigma=0.05 #5% significance level \n",
    "\n",
    "std_err=std_dev/np.sqrt(n)\n",
    "\n",
    "z_stats=(sam_mean-pop_mean)/std_err\n",
    "print(\"z_stats: \",z_stats)\n",
    "p_val=norm.cdf(z_stats)\n",
    "\n",
    "print(\"p_val: \",p_val)\n",
    "\n",
    "if sigma>p_val:\n",
    "    print(\"Reject Ho\")\n",
    "    print(\"People are shorter\")\n",
    "else:\n",
    "    print(\"Do not Reject Ho\")\n",
    "    print(\"People are not shorter\")"
   ]
  },
  {
   "cell_type": "markdown",
   "id": "e7666a8e",
   "metadata": {},
   "source": [
    "Q2.The verbal reasoning in GRE has an average score of 150, and a standard deviation of 8.5. A coaching center claims that their students are better. An average of 10 people showed that the students from this coaching center have an average of 155. At a 5% significance level (or 95% confidence level), can we conclude that students from the coaching center are better? Use the Z-test, and compute the p-value."
   ]
  },
  {
   "cell_type": "code",
   "execution_count": 3,
   "id": "ecfa6000",
   "metadata": {},
   "outputs": [
    {
     "name": "stdout",
     "output_type": "stream",
     "text": [
      "std_err:  2.687936011143122\n",
      "z:  1.8601633295108115\n",
      "p_val:  0.031431210741779014\n",
      "Reject H0\n",
      "Students are better\n"
     ]
    }
   ],
   "source": [
    "#H0=Students are not better\n",
    "#Ha=Students are better\n",
    "#Right Tailed\n",
    "\n",
    "pop_mean=150\n",
    "std_dev=8.5\n",
    "n=10\n",
    "sam_mean=155\n",
    "alpha=0.05 #5% significance level\n",
    "\n",
    "std_err=std_dev/np.sqrt(n)\n",
    "\n",
    "print('std_err: ',std_err)\n",
    "\n",
    "z=(sam_mean-pop_mean)/std_err\n",
    "print(\"z: \",z)\n",
    "p_val=1-norm.cdf(z)\n",
    "\n",
    "print(\"p_val: \",p_val)\n",
    "if sigma>p_val:\n",
    "    print(\"Reject H0\")\n",
    "    print(\"Students are better\")\n",
    "else:\n",
    "    print(\"Do not reject H0\")\n",
    "    print(\"Students are not better\")"
   ]
  },
  {
   "cell_type": "markdown",
   "id": "4c08704a",
   "metadata": {},
   "source": [
    "Q3.A french cake shop claims that the average number of pastries they can produce in a day exceeds 500.\n",
    "\n",
    "The average number of pastries produced per day over a 70 day period was found to be 530. Assume that the population standard deviation for the pastries produced per day is 125.\n",
    "\n",
    "Test the claim using a z-test with the critical z-value = 1.64 at the alpha (significance level) = 0.05, and state your interpretation.\n",
    "\n",
    "Note: Round off the z-score to two decimal places."
   ]
  },
  {
   "cell_type": "code",
   "execution_count": 4,
   "id": "28040485",
   "metadata": {},
   "outputs": [
    {
     "name": "stdout",
     "output_type": "stream",
     "text": [
      "std_err: 14.94035761667992\n",
      "z_stats : 2.007984063681781\n"
     ]
    },
    {
     "data": {
      "text/plain": [
       "'Since, observed z-score (2.01) > critical z-value(1.64), we reject the null hypothesis for the above right tailed test.\\nThus, we conclude that the average number exceeds 500.'"
      ]
     },
     "execution_count": 4,
     "metadata": {},
     "output_type": "execute_result"
    }
   ],
   "source": [
    "#H0: the average number of pastries produced per day is less than or equal to 500 (μ≤500)\n",
    "#Ha : the average number exceeds 500 (μ>500)\n",
    "\n",
    "pop_mean=500\n",
    "std_dev=125\n",
    "n=70\n",
    "sam_mean=530\n",
    "sigma=0.05 #5% significance level \n",
    "\n",
    "std_err=std_dev/np.sqrt(n)\n",
    "print('std_err:',std_err)\n",
    "\n",
    "z_stats=(sam_mean-pop_mean)/std_err\n",
    "print('z_stats :',z_stats)\n",
    "\n",
    "\n",
    "\"\"\"Since, observed z-score (2.01) > critical z-value(1.64), we reject the null hypothesis for the above right tailed test.\n",
    "Thus, we conclude that the average number exceeds 500.\"\"\""
   ]
  },
  {
   "cell_type": "markdown",
   "id": "a32b5844",
   "metadata": {},
   "source": [
    "Q4.The Chai Point stall at Bengaluru airport estimates that each person visiting the store drinks an average of 1.7 small cups of tea.\n",
    "\n",
    "Assume a population standard deviation of 0.5 small cups. A sample of 30 customers collected over a few days averaged 1.85 small cups of tea per person.\n",
    "\n",
    "Test the claim using a z-test at an alpha = 0.05 significance value, with a critical z-score value of ±1.96.\n",
    "\n",
    "Note: Round off the z-score to two decimal places."
   ]
  },
  {
   "cell_type": "code",
   "execution_count": 5,
   "id": "af24dff4",
   "metadata": {},
   "outputs": [
    {
     "name": "stdout",
     "output_type": "stream",
     "text": [
      "std_err: 0.09128709291752768\n",
      "z_stats : 1.6431676725155\n"
     ]
    },
    {
     "data": {
      "text/plain": [
       "'The computed z-score is 1.64, and since 1.64 is less than 1.96, the null hypothesis cannot be rejected.'"
      ]
     },
     "execution_count": 5,
     "metadata": {},
     "output_type": "execute_result"
    }
   ],
   "source": [
    "#(H0): the average number of small cups of tea per customer is equal to 1.7\n",
    "#Ha : the average number is either greater than or less than 1.7.\n",
    "\n",
    "pop_mean=1.7\n",
    "std_dev=0.5\n",
    "n=30\n",
    "sam_mean=1.85\n",
    "sigma=0.05 #5% significance level \n",
    "\n",
    "std_err=std_dev/np.sqrt(n)\n",
    "print('std_err:',std_err)\n",
    "\n",
    "z_stats=(sam_mean-pop_mean)/std_err\n",
    "print('z_stats :',z_stats)\n",
    "\n",
    "\"\"\"The computed z-score is 1.64, and since 1.64 is less than 1.96, the null hypothesis cannot be rejected.\"\"\"\n"
   ]
  },
  {
   "cell_type": "markdown",
   "id": "bb757a1b",
   "metadata": {},
   "source": [
    "Q5.The student hostel office at IIT Madras estimates that each student uses more than 3.5 buckets of water per day. 45 students in a certain wing averaged 3.72 buckets of water per day.\n",
    "\n",
    "Assume that the population standard deviation is 0.7 buckets. What is the critical sample mean for this population, assuming a critical z- value of 1.28?\n",
    "\n",
    "Note: The critical sample mean is defined as the mean value for which the z-score is equal to the critical value. Also, round off the final answer to three decimal places."
   ]
  },
  {
   "cell_type": "code",
   "execution_count": 6,
   "id": "79694e87",
   "metadata": {},
   "outputs": [
    {
     "name": "stdout",
     "output_type": "stream",
     "text": [
      "std_error:  0.10434983894999017\n",
      "ans:  3.6335677938559874\n"
     ]
    }
   ],
   "source": [
    "pop_mean=3.5\n",
    "std_dev=0.7\n",
    "n=45\n",
    "\n",
    "z_critical=1.28\n",
    "\n",
    "std_error=std_dev/np.sqrt(n)\n",
    "print('std_error: ',std_error)\n",
    "x=(z_critical*std_error)+pop_mean\n",
    "print('ans: ',x)"
   ]
  },
  {
   "cell_type": "markdown",
   "id": "340f5fb6",
   "metadata": {},
   "source": [
    "# ClassWork/Notes of Z-Test"
   ]
  },
  {
   "cell_type": "markdown",
   "id": "ec4f4498",
   "metadata": {},
   "source": [
    "1.Z-Test works for only Numerical Data\n"
   ]
  },
  {
   "cell_type": "markdown",
   "id": "dbeae6d9",
   "metadata": {},
   "source": [
    "2.if Observed z-score > critical z-value/Given z-score:\n",
    "\n",
    "    Reject Null Hypothesis\n",
    "    \n",
    "else:\n",
    "\n",
    "    Accept Null Hypothesis"
   ]
  },
  {
   "cell_type": "markdown",
   "id": "ffee1261",
   "metadata": {},
   "source": [
    "3.Sample mean > Population Mean then it will consider as RIGHT TAILED (1-norm.cdf(z))\n",
    "\n",
    "\n",
    "Sample mean < Population Mean then it will consider as LEFT TAILED (norm.cdf(z))"
   ]
  },
  {
   "cell_type": "markdown",
   "id": "8eed26bc",
   "metadata": {},
   "source": [
    "4.One Benifit of Z-test is that, here we know the mean of our Population data\n",
    "\n",
    "And as per the Z-test we need to compare the mean of two data then we have to perform Z-Test There "
   ]
  },
  {
   "cell_type": "markdown",
   "id": "cc5ff141",
   "metadata": {},
   "source": [
    "# T-Test"
   ]
  },
  {
   "cell_type": "markdown",
   "id": "b439dc8a",
   "metadata": {},
   "source": [
    "Q1.Based on field experiments, a new variety green gram is expected to given an yield of 12.0 quintals per hectare.\n",
    "\n",
    "The variety was tested on 10 randomly selected farmers fields. The yield (quintals/hectare) were recorded as\n",
    "\n",
    "[14.3,12.6,13.7,10.9,13.7,12.0,11.4,12.0,12.6,13.1]\n",
    "\n",
    "With 5% significance level can we conclude that average yield is more than the expected yield?\n",
    "\n",
    "Perform t-test and choose the correct option below :"
   ]
  },
  {
   "cell_type": "code",
   "execution_count": 7,
   "id": "0eca2a65",
   "metadata": {},
   "outputs": [
    {
     "name": "stdout",
     "output_type": "stream",
     "text": [
      "0.04979938002326665\n",
      "Reject H0\n",
      "Yield is more than average\n"
     ]
    }
   ],
   "source": [
    "#H0 :Average sample yield is same as expected\n",
    "#Ha :Average sample yield is greater than expected\n",
    "\n",
    "alpha=0.05    #5% significance level\n",
    "popmean = 12.0\n",
    "yield_data = [14.3,12.6,13.7,10.9,13.7,12.0,11.4,12.0,12.6,13.1]\n",
    "\n",
    "ttest_stat,p_val=ttest_1samp(yield_data, popmean = 12.0, alternative = 'greater')\n",
    "\n",
    "print(p_val)\n",
    "\n",
    "if alpha>p_val:\n",
    "    print(\"Reject H0\")\n",
    "    print(\"Yield is more than average\")\n",
    "else:\n",
    "    print(\"Do not reject H0\")\n",
    "    print(\"Yield is less than average\")"
   ]
  },
  {
   "cell_type": "markdown",
   "id": "91acd02a",
   "metadata": {},
   "source": [
    "Q2.The 1-sample t-test is used when we want to compare a sample mean to a population mean. The average British man is 175.3 cm tall.\n",
    "\n",
    "A survey recorded the heights of 10 UK men and we want to know whether the mean of the sample is different from the population mean.\n",
    "\n",
    "survey_height = [177.3, 182.7, 169.6, 176.3, 180.3, 179.4, 178.5, 177.2, 181.8, 176.5]\n",
    "\n",
    "With 5% significance level can we conclude that average height is more different than the population mean?\n",
    "\n",
    "Perform t-test and choose the correct option below :"
   ]
  },
  {
   "cell_type": "code",
   "execution_count": 8,
   "id": "bac307a1",
   "metadata": {},
   "outputs": [
    {
     "name": "stdout",
     "output_type": "stream",
     "text": [
      "Sample mean:  177.96\n",
      "0.04734137339747034\n",
      "Reject H0\n",
      "Height is more than 175.3\n"
     ]
    }
   ],
   "source": [
    "#H0=sample mean height is same as the population mean\n",
    "#Ha=sample mean height is different from the population mean\n",
    "\n",
    "alpha=0.05    #5% significance level\n",
    "popmean = 175.3\n",
    "survey_height = [177.3, 182.7, 169.6, 176.3, 180.3, 179.4, 178.5, 177.2, 181.8, 176.5]\n",
    "print('Sample mean: ',np.mean(survey_height))\n",
    "\n",
    "ttest_stat,p_val=ttest_1samp(survey_height, popmean = 175.3, alternative = 'two-sided')\n",
    "\n",
    "print(p_val)\n",
    "\n",
    "if alpha>p_val:\n",
    "    print(\"Reject H0\")\n",
    "    print(\"Height is more than 175.3\")\n",
    "else:\n",
    "    print(\"Do not reject H0\")\n",
    "    print(\"Height is equal to 175.3\")"
   ]
  },
  {
   "cell_type": "markdown",
   "id": "ec626415",
   "metadata": {},
   "source": [
    "Q3.We have the potato yield from 12 different farms.\n",
    "\n",
    "We know that the standard potato yield for the given variety is µ = 20.\n",
    "\n",
    "x = [21.5, 24.5, 18.5, 17.2, 14.5, 23.2, 22.1, 20.5, 19.4, 18.1, 24.1, 18.5]\n",
    "\n",
    "Test if the potato yield from these farms is significantly higher than the standard yield with 5% significance level.\n",
    "\n",
    "Perform t-test and choose the correct option below :"
   ]
  },
  {
   "cell_type": "code",
   "execution_count": 9,
   "id": "cc826407",
   "metadata": {},
   "outputs": [
    {
     "name": "stdout",
     "output_type": "stream",
     "text": [
      "Sample mean:  20.175\n",
      "0.4223145946526807\n",
      "Do not reject H0\n",
      "Potato yield from these farms is same as standard yield\n"
     ]
    }
   ],
   "source": [
    "#H0=Potato yield from these farms is same as standard yield\n",
    "#Ha=Potato yield from these farms is higher than standard yield\n",
    "\n",
    "alpha=0.05    #5% significance level\n",
    "popmean = 20\n",
    "\n",
    "x = [21.5, 24.5, 18.5, 17.2, 14.5, 23.2, 22.1, 20.5, 19.4, 18.1, 24.1, 18.5]\n",
    "print('Sample mean: ',np.mean(x))\n",
    "\n",
    "\n",
    "ttest_stat,p_val=ttest_1samp(x, popmean = 20, alternative = 'greater')\n",
    "\n",
    "print(p_val)\n",
    "\n",
    "if alpha>p_val:\n",
    "    print(\"Reject H0\")\n",
    "    print(\"Potato yield from these farms is not same as standard yield\")\n",
    "else:\n",
    "    print(\"Do not reject H0\")\n",
    "    print(\"Potato yield from these farms is same as standard yield\")"
   ]
  },
  {
   "cell_type": "markdown",
   "id": "b79b5a0d",
   "metadata": {},
   "source": [
    "Q4.Samples of Body fat percentages of few gym going men and women are recorded.\n",
    "\n",
    "men = [13.3, 6.0, 20.0, 8.0, 14.0, 19.0, 18.0, 25.0, 16.0, 24.0, 15.0, 1.0, 15.0] women = [22.0, 16.0, 21.7, 21.0, 30.0, 26.0, 12.0, 23.2, 28.0, 23.0]\n",
    "\n",
    "Perform 2 sample T-test to check if mean body fat percentage of men and women are statistically different.\n",
    "\n",
    "Assume significance level to be 5%.\n",
    "\n",
    "Choose the correct option below :"
   ]
  },
  {
   "cell_type": "code",
   "execution_count": 10,
   "id": "b76a01ec",
   "metadata": {},
   "outputs": [
    {
     "name": "stdout",
     "output_type": "stream",
     "text": [
      "Mean of men:  14.946153846153846\n",
      "Mean of women:  22.29\n",
      "p_val:  0.010730607904197957\n",
      "Reject H0\n",
      "Fat percentage of men and women are different\n"
     ]
    }
   ],
   "source": [
    "#H0=Body fat percentage of gym going men and women are same\n",
    "#Ha=Body fat percentage of gym going men and women are statistically different\n",
    "\n",
    "men = [13.3, 6.0, 20.0, 8.0, 14.0, 19.0, 18.0, 25.0, 16.0, 24.0, 15.0, 1.0, 15.0]\n",
    "women = [22.0, 16.0, 21.7, 21.0, 30.0, 26.0, 12.0, 23.2, 28.0, 23.0]\n",
    "print(\"Mean of men: \",np.mean(men))\n",
    "print(\"Mean of women: \",np.mean(women))\n",
    "\n",
    "alpha=0.05    #5% significance level\n",
    "\n",
    "ttest_samp,p_val=ttest_ind(women,men,alternative=\"two-sided\")\n",
    "\n",
    "print('p_val: ',p_val)\n",
    "\n",
    "if alpha>p_val:\n",
    "    print(\"Reject H0\")\n",
    "    print(\"Fat percentage of men and women are different\")\n",
    "else:\n",
    "    print(\"Do not reject H0\")\n",
    "    print(\"Fat percentage of men and women are same\")"
   ]
  },
  {
   "cell_type": "markdown",
   "id": "b4a74787",
   "metadata": {},
   "source": [
    "Q5.IQ score samples from two schools are collected. Perform T-test with 5% significance level to check if there is any statistically significant difference in mean IQ's of two schools.\n",
    "\n",
    "school_1 = [115, 111, 112, 101, 95, 98, 100, 90, 89, 108] school_2 = [107, 103, 91, 99, 104, 98, 117, 113, 92, 96, 108, 115, 116, 88]\n",
    "\n",
    "Choose the correct option below :"
   ]
  },
  {
   "cell_type": "code",
   "execution_count": 11,
   "id": "b5028824",
   "metadata": {},
   "outputs": [
    {
     "name": "stdout",
     "output_type": "stream",
     "text": [
      "mean of school_1 : 101.9\n",
      "mean of school_2 : 103.35714285714286\n",
      "p_val 0.7154458095186707\n",
      "Do not reject H0\n",
      "Mean IQ of two schools are same\n"
     ]
    }
   ],
   "source": [
    "#H0=IQ scores of the two schools are same\n",
    "#Ha=IQ scores of the two schools are statistically different\n",
    "\n",
    "\n",
    "alpha=0.05    #5% significance level\n",
    "\n",
    "school_1 = [115, 111, 112, 101, 95, 98, 100, 90, 89, 108]\n",
    "school_2 = [107, 103, 91, 99, 104, 98, 117, 113, 92, 96, 108, 115, 116, 88]\n",
    "\n",
    "print('mean of school_1 :',np.mean(school_1))\n",
    "print('mean of school_2 :',np.mean(school_2))\n",
    "\n",
    "ttest,p_val=ttest_ind(school_2,school_1,alternative='two-sided')\n",
    "print('p_val',p_val)\n",
    "\n",
    "if alpha>p_val:\n",
    "    print(\"Reject H0\")\n",
    "    print(\"Mean IQ of two schools are different\")\n",
    "else:\n",
    "    print(\"Do not reject H0\")\n",
    "    print(\"Mean IQ of two schools are same\")"
   ]
  },
  {
   "cell_type": "markdown",
   "id": "27c9038b",
   "metadata": {},
   "source": [
    "# ClassWork/Notes of T-Test"
   ]
  },
  {
   "cell_type": "markdown",
   "id": "14829d45",
   "metadata": {},
   "source": [
    "1.T-Test works for only Numerical Data"
   ]
  },
  {
   "cell_type": "markdown",
   "id": "2ea3d340",
   "metadata": {},
   "source": [
    "2.When we have to work with Numerical Vs Catagorical data, then on that case we have to use T-Test"
   ]
  },
  {
   "cell_type": "markdown",
   "id": "293f6662",
   "metadata": {},
   "source": [
    "3.When we have to work with Numerical Vs Numerical columns, then on that case we have to use T-Test"
   ]
  },
  {
   "cell_type": "markdown",
   "id": "ba18e0a4",
   "metadata": {},
   "source": [
    "4.If in Question\n",
    "\n",
    "    -->Greater/More/Higher is mentioned then we have to use alternative as \"Greater\"\n",
    "    \n",
    "    -->Lower/Less is mentioned then we have to use alternative as \"less\"\n",
    "    \n",
    "    -->Statistically different is mentioned then we have to use alternative as \"two-sided\""
   ]
  },
  {
   "cell_type": "markdown",
   "id": "7ca96de7",
   "metadata": {},
   "source": [
    "5.T-test can be use till two sample data. More than 2sample we can't use T-test there"
   ]
  },
  {
   "cell_type": "markdown",
   "id": "a461320d",
   "metadata": {},
   "source": [
    "6.If Before and After case/Comparing case is there then in such cases we need to use ttest_rel"
   ]
  },
  {
   "cell_type": "markdown",
   "id": "9354c78f",
   "metadata": {},
   "source": [
    "7.For 1-Sample-\n",
    "\n",
    "    ttest,p_val=ttest_1samp(data,pop_mean=,alternative=\"Greater/less/two-sided\")\n",
    "\n",
    "For 2-Sample\n",
    "    \n",
    "    ttest,p_val=ttest_ind(data_1,data_2,alternative=alternative=\"Greater/less/two-sided\")\n",
    "    \n",
    "                        (For two smple T test alternative can be optional, even if we don't put then we get the same answer)\n",
    "\n",
    "For Comapring before and After \n",
    "\n",
    "     ttest,p_val=ttest_rel(data_before, data_after, alternative=\"\" )"
   ]
  },
  {
   "cell_type": "markdown",
   "id": "a46e43d7",
   "metadata": {},
   "source": [
    "8.For T-test\n",
    "    \n",
    "    H0=All the given mean should be same\n",
    "    \n",
    "    Ha=All the given mean  should be different/high/low"
   ]
  },
  {
   "cell_type": "markdown",
   "id": "7654f3a3",
   "metadata": {},
   "source": [
    "Recap of z-test\n",
    "\n",
    "A french cake shop claims that the average number of pastries they can produce in a day exceeds 500. The average number of pastries produced per day over a 70 day period was found to be 530. Assume that the population standard deviation for the pastries produced per day is 125. Test the claim using a z-test with the critical z-value = 1.64 at the alpha (significance level) = 0.05, and state your interpretation."
   ]
  },
  {
   "cell_type": "code",
   "execution_count": 12,
   "id": "c28b358e",
   "metadata": {},
   "outputs": [
    {
     "name": "stdout",
     "output_type": "stream",
     "text": [
      "Reject H0\n"
     ]
    }
   ],
   "source": [
    "'''\n",
    "H0: mu = 500\n",
    "Ha: mu > 500\n",
    "'''\n",
    "std_err = 125/np.sqrt(70)\n",
    "z_stat = (530-500)/std_err\n",
    "\n",
    "p_value = 1 - norm.cdf(z_stat)\n",
    "\n",
    "alpha = 0.05\n",
    "\n",
    "if p_value < alpha:\n",
    "  print(\"Reject H0\")\n",
    "else:\n",
    "  print(\"Do not reject H0\")\n"
   ]
  },
  {
   "cell_type": "code",
   "execution_count": 13,
   "id": "f7d62da3",
   "metadata": {},
   "outputs": [
    {
     "name": "stdout",
     "output_type": "stream",
     "text": [
      "1.6448536269514722\n"
     ]
    }
   ],
   "source": [
    "z = norm.ppf(0.95)\n",
    "print(z)"
   ]
  },
  {
   "cell_type": "code",
   "execution_count": 14,
   "id": "6ed91e46",
   "metadata": {},
   "outputs": [
    {
     "name": "stdout",
     "output_type": "stream",
     "text": [
      "524.574701413748\n"
     ]
    }
   ],
   "source": [
    "x = 500 + z*125/np.sqrt(70)\n",
    "print(x) #critical point"
   ]
  },
  {
   "cell_type": "markdown",
   "id": "dadfb0ad",
   "metadata": {},
   "source": [
    "One researcher claims that his pill will improve IQ\n",
    "\n",
    "\n",
    "****Population IQ average = 100\n",
    "\n",
    "The pill is given to a few people and their IQ is tested with following results:\n",
    "\n"
   ]
  },
  {
   "cell_type": "code",
   "execution_count": 15,
   "id": "42e289ce",
   "metadata": {},
   "outputs": [
    {
     "data": {
      "text/plain": [
       "103.5"
      ]
     },
     "execution_count": 15,
     "metadata": {},
     "output_type": "execute_result"
    }
   ],
   "source": [
    "iq_scores = [110, 105, 98, 102, 99, 104, 115, 95]\n",
    "np.mean(iq_scores)"
   ]
  },
  {
   "cell_type": "raw",
   "id": "e9d57cc3",
   "metadata": {},
   "source": [
    "#Establish result at 99% confidence\n",
    "# alpha = 0.01 (1%)\n",
    "#T-test: 1 sample"
   ]
  },
  {
   "cell_type": "code",
   "execution_count": 16,
   "id": "f56169d9",
   "metadata": {},
   "outputs": [
    {
     "name": "stdout",
     "output_type": "stream",
     "text": [
      "0.1754994493585011\n",
      "Fail to reject H0\n",
      "Pill has no effect\n"
     ]
    }
   ],
   "source": [
    "#H0: mu = 100 (Pill has no effect)\n",
    "#Ha: mu > 100 (pill has good effect)\n",
    "\n",
    "t_stat, p_value = ttest_1samp(iq_scores, 100)\n",
    "print(p_value)\n",
    "\n",
    "alpha = 0.01\n",
    "\n",
    "if p_value < alpha:\n",
    "  print(\"Reject H0\")\n",
    "  print(\"Pill has a good effect\")\n",
    "else:\n",
    "  print(\"Fail to reject H0\")\n",
    "  print(\"Pill has no effect\")"
   ]
  },
  {
   "cell_type": "raw",
   "id": "d3e3f519",
   "metadata": {},
   "source": [
    "IQ across 2 schools"
   ]
  },
  {
   "cell_type": "code",
   "execution_count": 17,
   "id": "5b68a308",
   "metadata": {},
   "outputs": [
    {
     "data": {
      "text/html": [
       "<div>\n",
       "<style scoped>\n",
       "    .dataframe tbody tr th:only-of-type {\n",
       "        vertical-align: middle;\n",
       "    }\n",
       "\n",
       "    .dataframe tbody tr th {\n",
       "        vertical-align: top;\n",
       "    }\n",
       "\n",
       "    .dataframe thead th {\n",
       "        text-align: right;\n",
       "    }\n",
       "</style>\n",
       "<table border=\"1\" class=\"dataframe\">\n",
       "  <thead>\n",
       "    <tr style=\"text-align: right;\">\n",
       "      <th></th>\n",
       "      <th>School</th>\n",
       "      <th>iq</th>\n",
       "    </tr>\n",
       "  </thead>\n",
       "  <tbody>\n",
       "    <tr>\n",
       "      <th>0</th>\n",
       "      <td>school_1</td>\n",
       "      <td>91</td>\n",
       "    </tr>\n",
       "    <tr>\n",
       "      <th>1</th>\n",
       "      <td>school_1</td>\n",
       "      <td>95</td>\n",
       "    </tr>\n",
       "    <tr>\n",
       "      <th>2</th>\n",
       "      <td>school_1</td>\n",
       "      <td>110</td>\n",
       "    </tr>\n",
       "    <tr>\n",
       "      <th>3</th>\n",
       "      <td>school_1</td>\n",
       "      <td>112</td>\n",
       "    </tr>\n",
       "    <tr>\n",
       "      <th>4</th>\n",
       "      <td>school_1</td>\n",
       "      <td>115</td>\n",
       "    </tr>\n",
       "    <tr>\n",
       "      <th>5</th>\n",
       "      <td>school_1</td>\n",
       "      <td>94</td>\n",
       "    </tr>\n",
       "    <tr>\n",
       "      <th>6</th>\n",
       "      <td>school_1</td>\n",
       "      <td>82</td>\n",
       "    </tr>\n",
       "    <tr>\n",
       "      <th>7</th>\n",
       "      <td>school_1</td>\n",
       "      <td>84</td>\n",
       "    </tr>\n",
       "    <tr>\n",
       "      <th>8</th>\n",
       "      <td>school_1</td>\n",
       "      <td>85</td>\n",
       "    </tr>\n",
       "    <tr>\n",
       "      <th>9</th>\n",
       "      <td>school_1</td>\n",
       "      <td>89</td>\n",
       "    </tr>\n",
       "    <tr>\n",
       "      <th>10</th>\n",
       "      <td>school_1</td>\n",
       "      <td>91</td>\n",
       "    </tr>\n",
       "    <tr>\n",
       "      <th>11</th>\n",
       "      <td>school_1</td>\n",
       "      <td>91</td>\n",
       "    </tr>\n",
       "    <tr>\n",
       "      <th>12</th>\n",
       "      <td>school_1</td>\n",
       "      <td>92</td>\n",
       "    </tr>\n",
       "    <tr>\n",
       "      <th>13</th>\n",
       "      <td>school_1</td>\n",
       "      <td>94</td>\n",
       "    </tr>\n",
       "    <tr>\n",
       "      <th>14</th>\n",
       "      <td>school_1</td>\n",
       "      <td>99</td>\n",
       "    </tr>\n",
       "    <tr>\n",
       "      <th>15</th>\n",
       "      <td>school_1</td>\n",
       "      <td>99</td>\n",
       "    </tr>\n",
       "    <tr>\n",
       "      <th>16</th>\n",
       "      <td>school_1</td>\n",
       "      <td>105</td>\n",
       "    </tr>\n",
       "    <tr>\n",
       "      <th>17</th>\n",
       "      <td>school_1</td>\n",
       "      <td>109</td>\n",
       "    </tr>\n",
       "    <tr>\n",
       "      <th>18</th>\n",
       "      <td>school_1</td>\n",
       "      <td>109</td>\n",
       "    </tr>\n",
       "    <tr>\n",
       "      <th>19</th>\n",
       "      <td>school_1</td>\n",
       "      <td>109</td>\n",
       "    </tr>\n",
       "    <tr>\n",
       "      <th>20</th>\n",
       "      <td>school_1</td>\n",
       "      <td>110</td>\n",
       "    </tr>\n",
       "    <tr>\n",
       "      <th>21</th>\n",
       "      <td>school_1</td>\n",
       "      <td>112</td>\n",
       "    </tr>\n",
       "    <tr>\n",
       "      <th>22</th>\n",
       "      <td>school_1</td>\n",
       "      <td>112</td>\n",
       "    </tr>\n",
       "    <tr>\n",
       "      <th>23</th>\n",
       "      <td>school_1</td>\n",
       "      <td>113</td>\n",
       "    </tr>\n",
       "    <tr>\n",
       "      <th>24</th>\n",
       "      <td>school_1</td>\n",
       "      <td>114</td>\n",
       "    </tr>\n",
       "    <tr>\n",
       "      <th>25</th>\n",
       "      <td>school_1</td>\n",
       "      <td>114</td>\n",
       "    </tr>\n",
       "    <tr>\n",
       "      <th>26</th>\n",
       "      <td>school_2</td>\n",
       "      <td>112</td>\n",
       "    </tr>\n",
       "    <tr>\n",
       "      <th>27</th>\n",
       "      <td>school_2</td>\n",
       "      <td>115</td>\n",
       "    </tr>\n",
       "    <tr>\n",
       "      <th>28</th>\n",
       "      <td>school_2</td>\n",
       "      <td>95</td>\n",
       "    </tr>\n",
       "    <tr>\n",
       "      <th>29</th>\n",
       "      <td>school_2</td>\n",
       "      <td>92</td>\n",
       "    </tr>\n",
       "    <tr>\n",
       "      <th>30</th>\n",
       "      <td>school_2</td>\n",
       "      <td>91</td>\n",
       "    </tr>\n",
       "    <tr>\n",
       "      <th>31</th>\n",
       "      <td>school_2</td>\n",
       "      <td>95</td>\n",
       "    </tr>\n",
       "    <tr>\n",
       "      <th>32</th>\n",
       "      <td>school_2</td>\n",
       "      <td>91</td>\n",
       "    </tr>\n",
       "    <tr>\n",
       "      <th>33</th>\n",
       "      <td>school_2</td>\n",
       "      <td>99</td>\n",
       "    </tr>\n",
       "    <tr>\n",
       "      <th>34</th>\n",
       "      <td>school_2</td>\n",
       "      <td>111</td>\n",
       "    </tr>\n",
       "    <tr>\n",
       "      <th>35</th>\n",
       "      <td>school_2</td>\n",
       "      <td>115</td>\n",
       "    </tr>\n",
       "    <tr>\n",
       "      <th>36</th>\n",
       "      <td>school_2</td>\n",
       "      <td>108</td>\n",
       "    </tr>\n",
       "    <tr>\n",
       "      <th>37</th>\n",
       "      <td>school_2</td>\n",
       "      <td>109</td>\n",
       "    </tr>\n",
       "    <tr>\n",
       "      <th>38</th>\n",
       "      <td>school_2</td>\n",
       "      <td>109</td>\n",
       "    </tr>\n",
       "    <tr>\n",
       "      <th>39</th>\n",
       "      <td>school_2</td>\n",
       "      <td>114</td>\n",
       "    </tr>\n",
       "    <tr>\n",
       "      <th>40</th>\n",
       "      <td>school_2</td>\n",
       "      <td>115</td>\n",
       "    </tr>\n",
       "    <tr>\n",
       "      <th>41</th>\n",
       "      <td>school_2</td>\n",
       "      <td>116</td>\n",
       "    </tr>\n",
       "    <tr>\n",
       "      <th>42</th>\n",
       "      <td>school_2</td>\n",
       "      <td>117</td>\n",
       "    </tr>\n",
       "    <tr>\n",
       "      <th>43</th>\n",
       "      <td>school_2</td>\n",
       "      <td>117</td>\n",
       "    </tr>\n",
       "    <tr>\n",
       "      <th>44</th>\n",
       "      <td>school_2</td>\n",
       "      <td>128</td>\n",
       "    </tr>\n",
       "    <tr>\n",
       "      <th>45</th>\n",
       "      <td>school_2</td>\n",
       "      <td>129</td>\n",
       "    </tr>\n",
       "    <tr>\n",
       "      <th>46</th>\n",
       "      <td>school_2</td>\n",
       "      <td>130</td>\n",
       "    </tr>\n",
       "    <tr>\n",
       "      <th>47</th>\n",
       "      <td>school_2</td>\n",
       "      <td>133</td>\n",
       "    </tr>\n",
       "    <tr>\n",
       "      <th>48</th>\n",
       "      <td>school_2</td>\n",
       "      <td>95</td>\n",
       "    </tr>\n",
       "    <tr>\n",
       "      <th>49</th>\n",
       "      <td>school_2</td>\n",
       "      <td>90</td>\n",
       "    </tr>\n",
       "  </tbody>\n",
       "</table>\n",
       "</div>"
      ],
      "text/plain": [
       "      School   iq\n",
       "0   school_1   91\n",
       "1   school_1   95\n",
       "2   school_1  110\n",
       "3   school_1  112\n",
       "4   school_1  115\n",
       "5   school_1   94\n",
       "6   school_1   82\n",
       "7   school_1   84\n",
       "8   school_1   85\n",
       "9   school_1   89\n",
       "10  school_1   91\n",
       "11  school_1   91\n",
       "12  school_1   92\n",
       "13  school_1   94\n",
       "14  school_1   99\n",
       "15  school_1   99\n",
       "16  school_1  105\n",
       "17  school_1  109\n",
       "18  school_1  109\n",
       "19  school_1  109\n",
       "20  school_1  110\n",
       "21  school_1  112\n",
       "22  school_1  112\n",
       "23  school_1  113\n",
       "24  school_1  114\n",
       "25  school_1  114\n",
       "26  school_2  112\n",
       "27  school_2  115\n",
       "28  school_2   95\n",
       "29  school_2   92\n",
       "30  school_2   91\n",
       "31  school_2   95\n",
       "32  school_2   91\n",
       "33  school_2   99\n",
       "34  school_2  111\n",
       "35  school_2  115\n",
       "36  school_2  108\n",
       "37  school_2  109\n",
       "38  school_2  109\n",
       "39  school_2  114\n",
       "40  school_2  115\n",
       "41  school_2  116\n",
       "42  school_2  117\n",
       "43  school_2  117\n",
       "44  school_2  128\n",
       "45  school_2  129\n",
       "46  school_2  130\n",
       "47  school_2  133\n",
       "48  school_2   95\n",
       "49  school_2   90"
      ]
     },
     "execution_count": 17,
     "metadata": {},
     "output_type": "execute_result"
    }
   ],
   "source": [
    "df_iq=pd.read_csv(\"D:\\SCALER_CLASSES\\HYPOTHESEIS TESTING(Mod-7)\\Dataset\\iq_two_schools.csv\")\n",
    "\n",
    "df_iq.head(50)"
   ]
  },
  {
   "cell_type": "code",
   "execution_count": 18,
   "id": "eeb2f6bf",
   "metadata": {},
   "outputs": [
    {
     "data": {
      "text/plain": [
       "School\n",
       "school_1    101.153846\n",
       "school_2    109.416667\n",
       "Name: iq, dtype: float64"
      ]
     },
     "execution_count": 18,
     "metadata": {},
     "output_type": "execute_result"
    }
   ],
   "source": [
    "df_iq.groupby(\"School\")[\"iq\"].mean()"
   ]
  },
  {
   "cell_type": "code",
   "execution_count": 19,
   "id": "408cce81",
   "metadata": {},
   "outputs": [],
   "source": [
    "iq_1 = df_iq[ df_iq[\"School\"] == \"school_1\" ][\"iq\"]\n",
    "iq_2 = df_iq[ df_iq[\"School\"] == \"school_2\" ][\"iq\"]"
   ]
  },
  {
   "cell_type": "code",
   "execution_count": 20,
   "id": "77e2ad96",
   "metadata": {},
   "outputs": [
    {
     "data": {
      "text/plain": [
       "0     91\n",
       "1     95\n",
       "2    110\n",
       "3    112\n",
       "4    115\n",
       "Name: iq, dtype: int64"
      ]
     },
     "execution_count": 20,
     "metadata": {},
     "output_type": "execute_result"
    }
   ],
   "source": [
    "iq_1.head()"
   ]
  },
  {
   "cell_type": "code",
   "execution_count": 21,
   "id": "94293d37",
   "metadata": {},
   "outputs": [
    {
     "data": {
      "text/plain": [
       "26    112\n",
       "27    115\n",
       "28     95\n",
       "29     92\n",
       "30     91\n",
       "Name: iq, dtype: int64"
      ]
     },
     "execution_count": 21,
     "metadata": {},
     "output_type": "execute_result"
    }
   ],
   "source": [
    "iq_2.head()"
   ]
  },
  {
   "cell_type": "raw",
   "id": "2a716897",
   "metadata": {},
   "source": [
    "Case-1"
   ]
  },
  {
   "cell_type": "code",
   "execution_count": 22,
   "id": "22e46d81",
   "metadata": {},
   "outputs": [
    {
     "name": "stdout",
     "output_type": "stream",
     "text": [
      "Reject H0\n"
     ]
    }
   ],
   "source": [
    "#H0: mu1 = mu2\n",
    "#Ha: mu1 != mu2\n",
    "\n",
    "\n",
    "t_stat, p_value = ttest_ind(iq_1 , iq_2)\n",
    "\n",
    "alpha = 0.05\n",
    "\n",
    "if p_value < alpha:\n",
    "  print(\"Reject H0\")\n",
    "else:\n",
    "  print(\"Fail to reject H0\")"
   ]
  },
  {
   "cell_type": "raw",
   "id": "b07a41db",
   "metadata": {},
   "source": [
    "Case-2"
   ]
  },
  {
   "cell_type": "code",
   "execution_count": 23,
   "id": "ecd0de1d",
   "metadata": {},
   "outputs": [
    {
     "name": "stdout",
     "output_type": "stream",
     "text": [
      "Fail to reject H0\n"
     ]
    }
   ],
   "source": [
    "\n",
    "#H0: mu1 = mu2\n",
    "#Ha: mu1 > mu2\n",
    "\n",
    "\n",
    "t_stat, p_value = ttest_ind(iq_1 , iq_2 , alternative = \"greater\")\n",
    "\n",
    "alpha = 0.05\n",
    "\n",
    "if p_value < alpha:\n",
    "  print(\"Reject H0\")\n",
    "else:\n",
    "  print(\"Fail to reject H0\")"
   ]
  },
  {
   "cell_type": "raw",
   "id": "7845a25f",
   "metadata": {},
   "source": [
    "Case-3"
   ]
  },
  {
   "cell_type": "code",
   "execution_count": 24,
   "id": "d954f851",
   "metadata": {},
   "outputs": [
    {
     "name": "stdout",
     "output_type": "stream",
     "text": [
      "0.010022763554681085\n",
      "Reject H0\n"
     ]
    }
   ],
   "source": [
    "#H0: mu1 = mu2\n",
    "#Ha: mu1 < mu2\n",
    "\n",
    "\n",
    "t_stat, p_value = ttest_ind(iq_1 , iq_2 , alternative = \"less\")\n",
    "print(p_value)\n",
    "alpha = 0.05\n",
    "\n",
    "if p_value < alpha:\n",
    "  print(\"Reject H0\")\n",
    "else:\n",
    "  print(\"Fail to reject H0\")"
   ]
  },
  {
   "cell_type": "raw",
   "id": "bbce5835",
   "metadata": {},
   "source": [
    "Case-4"
   ]
  },
  {
   "cell_type": "code",
   "execution_count": 25,
   "id": "7b2d4f24",
   "metadata": {},
   "outputs": [
    {
     "name": "stdout",
     "output_type": "stream",
     "text": [
      "0.010022763554681085\n",
      "Reject H0\n"
     ]
    }
   ],
   "source": [
    "#H0: mu1 = mu2\n",
    "#Ha: mu1 < mu2\n",
    "\n",
    "\n",
    "t_stat, p_value = ttest_ind(iq_2 , iq_1 , alternative = \"greater\")\n",
    "print(p_value)\n",
    "alpha = 0.05\n",
    "\n",
    "if p_value < alpha:\n",
    "  print(\"Reject H0\")\n",
    "else:\n",
    "  print(\"Fail to reject H0\")"
   ]
  },
  {
   "cell_type": "raw",
   "id": "bd762d98",
   "metadata": {},
   "source": [
    "CRICKET"
   ]
  },
  {
   "cell_type": "code",
   "execution_count": 26,
   "id": "ceff1375",
   "metadata": {},
   "outputs": [
    {
     "data": {
      "text/html": [
       "<div>\n",
       "<style scoped>\n",
       "    .dataframe tbody tr th:only-of-type {\n",
       "        vertical-align: middle;\n",
       "    }\n",
       "\n",
       "    .dataframe tbody tr th {\n",
       "        vertical-align: top;\n",
       "    }\n",
       "\n",
       "    .dataframe thead th {\n",
       "        text-align: right;\n",
       "    }\n",
       "</style>\n",
       "<table border=\"1\" class=\"dataframe\">\n",
       "  <thead>\n",
       "    <tr style=\"text-align: right;\">\n",
       "      <th></th>\n",
       "      <th>runs</th>\n",
       "      <th>NotOut</th>\n",
       "      <th>mins</th>\n",
       "      <th>bf</th>\n",
       "      <th>fours</th>\n",
       "      <th>sixes</th>\n",
       "      <th>sr</th>\n",
       "      <th>Inns</th>\n",
       "      <th>Opp</th>\n",
       "      <th>Ground</th>\n",
       "      <th>Date</th>\n",
       "      <th>Winner</th>\n",
       "      <th>Won</th>\n",
       "      <th>century</th>\n",
       "    </tr>\n",
       "  </thead>\n",
       "  <tbody>\n",
       "    <tr>\n",
       "      <th>0</th>\n",
       "      <td>13</td>\n",
       "      <td>0</td>\n",
       "      <td>30</td>\n",
       "      <td>15</td>\n",
       "      <td>3</td>\n",
       "      <td>0</td>\n",
       "      <td>86.66</td>\n",
       "      <td>1</td>\n",
       "      <td>New Zealand</td>\n",
       "      <td>Napier</td>\n",
       "      <td>1995-02-16</td>\n",
       "      <td>New Zealand</td>\n",
       "      <td>False</td>\n",
       "      <td>False</td>\n",
       "    </tr>\n",
       "    <tr>\n",
       "      <th>1</th>\n",
       "      <td>37</td>\n",
       "      <td>0</td>\n",
       "      <td>75</td>\n",
       "      <td>51</td>\n",
       "      <td>3</td>\n",
       "      <td>1</td>\n",
       "      <td>72.54</td>\n",
       "      <td>2</td>\n",
       "      <td>South Africa</td>\n",
       "      <td>Hamilton</td>\n",
       "      <td>1995-02-18</td>\n",
       "      <td>South Africa</td>\n",
       "      <td>False</td>\n",
       "      <td>False</td>\n",
       "    </tr>\n",
       "    <tr>\n",
       "      <th>2</th>\n",
       "      <td>47</td>\n",
       "      <td>0</td>\n",
       "      <td>65</td>\n",
       "      <td>40</td>\n",
       "      <td>7</td>\n",
       "      <td>0</td>\n",
       "      <td>117.50</td>\n",
       "      <td>2</td>\n",
       "      <td>Australia</td>\n",
       "      <td>Dunedin</td>\n",
       "      <td>1995-02-22</td>\n",
       "      <td>India</td>\n",
       "      <td>True</td>\n",
       "      <td>False</td>\n",
       "    </tr>\n",
       "    <tr>\n",
       "      <th>3</th>\n",
       "      <td>48</td>\n",
       "      <td>0</td>\n",
       "      <td>37</td>\n",
       "      <td>30</td>\n",
       "      <td>9</td>\n",
       "      <td>1</td>\n",
       "      <td>160.00</td>\n",
       "      <td>2</td>\n",
       "      <td>Bangladesh</td>\n",
       "      <td>Sharjah</td>\n",
       "      <td>1995-04-05</td>\n",
       "      <td>India</td>\n",
       "      <td>True</td>\n",
       "      <td>False</td>\n",
       "    </tr>\n",
       "    <tr>\n",
       "      <th>4</th>\n",
       "      <td>4</td>\n",
       "      <td>0</td>\n",
       "      <td>13</td>\n",
       "      <td>9</td>\n",
       "      <td>1</td>\n",
       "      <td>0</td>\n",
       "      <td>44.44</td>\n",
       "      <td>2</td>\n",
       "      <td>Pakistan</td>\n",
       "      <td>Sharjah</td>\n",
       "      <td>1995-04-07</td>\n",
       "      <td>Pakistan</td>\n",
       "      <td>False</td>\n",
       "      <td>False</td>\n",
       "    </tr>\n",
       "  </tbody>\n",
       "</table>\n",
       "</div>"
      ],
      "text/plain": [
       "   runs  NotOut mins  bf  fours  sixes      sr  Inns           Opp    Ground  \\\n",
       "0    13       0   30  15      3      0   86.66     1   New Zealand    Napier   \n",
       "1    37       0   75  51      3      1   72.54     2  South Africa  Hamilton   \n",
       "2    47       0   65  40      7      0  117.50     2     Australia   Dunedin   \n",
       "3    48       0   37  30      9      1  160.00     2    Bangladesh   Sharjah   \n",
       "4     4       0   13   9      1      0   44.44     2      Pakistan   Sharjah   \n",
       "\n",
       "         Date        Winner    Won  century  \n",
       "0  1995-02-16   New Zealand  False    False  \n",
       "1  1995-02-18  South Africa  False    False  \n",
       "2  1995-02-22         India   True    False  \n",
       "3  1995-04-05         India   True    False  \n",
       "4  1995-04-07      Pakistan  False    False  "
      ]
     },
     "execution_count": 26,
     "metadata": {},
     "output_type": "execute_result"
    }
   ],
   "source": [
    "df=pd.read_csv(\"D:\\SCALER_CLASSES\\HYPOTHESEIS TESTING(Mod-7)\\Dataset\\Sachin_ODI.csv\")\n",
    "df.head()"
   ]
  },
  {
   "cell_type": "code",
   "execution_count": 27,
   "id": "fb0d58cd",
   "metadata": {},
   "outputs": [],
   "source": [
    "df_first_innings = df[df[\"Inns\"] == 1]\n",
    "df_second_innings = df[df[\"Inns\"] == 2]"
   ]
  },
  {
   "cell_type": "code",
   "execution_count": 28,
   "id": "05d09a88",
   "metadata": {},
   "outputs": [
    {
     "data": {
      "text/plain": [
       "Inns\n",
       "1    46.670588\n",
       "2    40.173684\n",
       "Name: runs, dtype: float64"
      ]
     },
     "execution_count": 28,
     "metadata": {},
     "output_type": "execute_result"
    }
   ],
   "source": [
    "df.groupby(\"Inns\")[\"runs\"].mean()"
   ]
  },
  {
   "cell_type": "code",
   "execution_count": 29,
   "id": "3d8a322b",
   "metadata": {},
   "outputs": [
    {
     "name": "stdout",
     "output_type": "stream",
     "text": [
      "0.07241862097379981\n",
      "Fail to reject H0\n",
      "Difference we see is just by chance\n"
     ]
    }
   ],
   "source": [
    "#H0: mu1 = mu2 (First and second inns are essentially the same)\n",
    "#Ha: mu1 > mu2 (First innings avg is significantly more)\n",
    "\n",
    "alpha = 0.05\n",
    "\n",
    "t_stat, p_value = ttest_ind(df_first_innings[\"runs\"], df_second_innings[\"runs\"], alternative = \"greater\" )\n",
    "\n",
    "print(p_value)\n",
    "\n",
    "if p_value < alpha:\n",
    "    print(\"Reject H0\")\n",
    "    print(\"First innings is better\")\n",
    "else:\n",
    "    print(\"Fail to reject H0\")\n",
    "    print(\"Difference we see is just by chance\")"
   ]
  },
  {
   "cell_type": "raw",
   "id": "45874b78",
   "metadata": {},
   "source": [
    "Victory vs Defeat"
   ]
  },
  {
   "cell_type": "code",
   "execution_count": 30,
   "id": "b7edfca4",
   "metadata": {},
   "outputs": [
    {
     "data": {
      "text/plain": [
       "Won\n",
       "False    35.130682\n",
       "True     51.000000\n",
       "Name: runs, dtype: float64"
      ]
     },
     "execution_count": 30,
     "metadata": {},
     "output_type": "execute_result"
    }
   ],
   "source": [
    "df.groupby(\"Won\")[\"runs\"].mean()"
   ]
  },
  {
   "cell_type": "code",
   "execution_count": 31,
   "id": "17dba069",
   "metadata": {},
   "outputs": [],
   "source": [
    "df_won = df[df[\"Won\"] == True]\n",
    "df_lost = df[df[\"Won\"] == False]"
   ]
  },
  {
   "cell_type": "code",
   "execution_count": 32,
   "id": "83ac13ba",
   "metadata": {},
   "outputs": [
    {
     "name": "stdout",
     "output_type": "stream",
     "text": [
      "0.00016353077486826558\n",
      "Reject H0\n",
      "Batting pattern of sachin matters. When Sachin scores more runs on an avg, India wins\n"
     ]
    }
   ],
   "source": [
    "#mu1 - win, mu2-losing\n",
    "#H0: mu1 = mu2 (same batting pattern)\n",
    "#Ha: mu1 > mu2 (better scores in matches won)\n",
    "\n",
    "\n",
    "alpha = 0.05\n",
    "\n",
    "t_stat, p_value = ttest_ind(df_won[\"runs\"], df_lost [\"runs\"], alternative = \"greater\" )\n",
    "\n",
    "print(p_value)\n",
    "\n",
    "if p_value < alpha:\n",
    "    print(\"Reject H0\")\n",
    "    print(\"Batting pattern of sachin matters. When Sachin scores more runs on an avg, India wins\")\n",
    "else:\n",
    "    print(\"Fail to reject H0\")\n",
    "    print(\"Batting pattern doesnt matter\")"
   ]
  },
  {
   "cell_type": "raw",
   "id": "8e72575c",
   "metadata": {},
   "source": [
    "Drug Recovery"
   ]
  },
  {
   "cell_type": "code",
   "execution_count": 33,
   "id": "9650192e",
   "metadata": {},
   "outputs": [],
   "source": [
    "df1=pd.read_csv(\"D:\\SCALER_CLASSES\\HYPOTHESEIS TESTING(Mod-7)\\Dataset\\drug_1_recovery.csv\")\n",
    "df2=pd.read_csv(\"D:\\SCALER_CLASSES\\HYPOTHESEIS TESTING(Mod-7)\\Dataset\\drug_2_recovery.csv\")"
   ]
  },
  {
   "cell_type": "code",
   "execution_count": 34,
   "id": "aa682888",
   "metadata": {},
   "outputs": [
    {
     "data": {
      "text/html": [
       "<div>\n",
       "<style scoped>\n",
       "    .dataframe tbody tr th:only-of-type {\n",
       "        vertical-align: middle;\n",
       "    }\n",
       "\n",
       "    .dataframe tbody tr th {\n",
       "        vertical-align: top;\n",
       "    }\n",
       "\n",
       "    .dataframe thead th {\n",
       "        text-align: right;\n",
       "    }\n",
       "</style>\n",
       "<table border=\"1\" class=\"dataframe\">\n",
       "  <thead>\n",
       "    <tr style=\"text-align: right;\">\n",
       "      <th></th>\n",
       "      <th>drug_1</th>\n",
       "    </tr>\n",
       "  </thead>\n",
       "  <tbody>\n",
       "    <tr>\n",
       "      <th>0</th>\n",
       "      <td>8.824208</td>\n",
       "    </tr>\n",
       "    <tr>\n",
       "      <th>1</th>\n",
       "      <td>7.477745</td>\n",
       "    </tr>\n",
       "    <tr>\n",
       "      <th>2</th>\n",
       "      <td>7.557121</td>\n",
       "    </tr>\n",
       "    <tr>\n",
       "      <th>3</th>\n",
       "      <td>7.981314</td>\n",
       "    </tr>\n",
       "    <tr>\n",
       "      <th>4</th>\n",
       "      <td>6.827716</td>\n",
       "    </tr>\n",
       "  </tbody>\n",
       "</table>\n",
       "</div>"
      ],
      "text/plain": [
       "     drug_1\n",
       "0  8.824208\n",
       "1  7.477745\n",
       "2  7.557121\n",
       "3  7.981314\n",
       "4  6.827716"
      ]
     },
     "execution_count": 34,
     "metadata": {},
     "output_type": "execute_result"
    }
   ],
   "source": [
    "df1.head()"
   ]
  },
  {
   "cell_type": "code",
   "execution_count": 35,
   "id": "4c01b0d2",
   "metadata": {},
   "outputs": [
    {
     "data": {
      "text/html": [
       "<div>\n",
       "<style scoped>\n",
       "    .dataframe tbody tr th:only-of-type {\n",
       "        vertical-align: middle;\n",
       "    }\n",
       "\n",
       "    .dataframe tbody tr th {\n",
       "        vertical-align: top;\n",
       "    }\n",
       "\n",
       "    .dataframe thead th {\n",
       "        text-align: right;\n",
       "    }\n",
       "</style>\n",
       "<table border=\"1\" class=\"dataframe\">\n",
       "  <thead>\n",
       "    <tr style=\"text-align: right;\">\n",
       "      <th></th>\n",
       "      <th>drug_2</th>\n",
       "    </tr>\n",
       "  </thead>\n",
       "  <tbody>\n",
       "    <tr>\n",
       "      <th>0</th>\n",
       "      <td>9.565974</td>\n",
       "    </tr>\n",
       "    <tr>\n",
       "      <th>1</th>\n",
       "      <td>7.492915</td>\n",
       "    </tr>\n",
       "    <tr>\n",
       "      <th>2</th>\n",
       "      <td>8.738418</td>\n",
       "    </tr>\n",
       "    <tr>\n",
       "      <th>3</th>\n",
       "      <td>7.635235</td>\n",
       "    </tr>\n",
       "    <tr>\n",
       "      <th>4</th>\n",
       "      <td>4.125593</td>\n",
       "    </tr>\n",
       "  </tbody>\n",
       "</table>\n",
       "</div>"
      ],
      "text/plain": [
       "     drug_2\n",
       "0  9.565974\n",
       "1  7.492915\n",
       "2  8.738418\n",
       "3  7.635235\n",
       "4  4.125593"
      ]
     },
     "execution_count": 35,
     "metadata": {},
     "output_type": "execute_result"
    }
   ],
   "source": [
    "df2.head()"
   ]
  },
  {
   "cell_type": "code",
   "execution_count": 36,
   "id": "df1d26b5",
   "metadata": {},
   "outputs": [
    {
     "data": {
      "text/plain": [
       "(drug_1    7.104917\n",
       " dtype: float64,\n",
       " drug_2    8.073423\n",
       " dtype: float64)"
      ]
     },
     "execution_count": 36,
     "metadata": {},
     "output_type": "execute_result"
    }
   ],
   "source": [
    "df1.mean() , df2.mean()"
   ]
  },
  {
   "cell_type": "code",
   "execution_count": 37,
   "id": "45a9a788",
   "metadata": {},
   "outputs": [
    {
     "name": "stdout",
     "output_type": "stream",
     "text": [
      "[1.27713574e-07]\n",
      "Reject H0\n"
     ]
    }
   ],
   "source": [
    "#H0: mu1 = mu2\n",
    "#Ha: mu1 < mu2 (Drug 1 takes less time to recover)\n",
    "\n",
    "\n",
    "t_stat, p_value = ttest_ind(df1, df2, alternative = \"less\")\n",
    "\n",
    "print(p_value)\n",
    "\n",
    "if p_value < 0.05:\n",
    "  print(\"Reject H0\")\n",
    "else:\n",
    "  print(\"Fail to reject H0\")"
   ]
  },
  {
   "cell_type": "code",
   "execution_count": 38,
   "id": "a1853ed0",
   "metadata": {},
   "outputs": [],
   "source": [
    "df=pd.read_csv(\"D:\\SCALER_CLASSES\\HYPOTHESEIS TESTING(Mod-7)\\Dataset\\\\aerofit.csv\")"
   ]
  },
  {
   "cell_type": "code",
   "execution_count": 39,
   "id": "c1e4127f",
   "metadata": {},
   "outputs": [
    {
     "data": {
      "text/html": [
       "<div>\n",
       "<style scoped>\n",
       "    .dataframe tbody tr th:only-of-type {\n",
       "        vertical-align: middle;\n",
       "    }\n",
       "\n",
       "    .dataframe tbody tr th {\n",
       "        vertical-align: top;\n",
       "    }\n",
       "\n",
       "    .dataframe thead th {\n",
       "        text-align: right;\n",
       "    }\n",
       "</style>\n",
       "<table border=\"1\" class=\"dataframe\">\n",
       "  <thead>\n",
       "    <tr style=\"text-align: right;\">\n",
       "      <th></th>\n",
       "      <th>Product</th>\n",
       "      <th>Age</th>\n",
       "      <th>Gender</th>\n",
       "      <th>Education</th>\n",
       "      <th>MaritalStatus</th>\n",
       "      <th>Usage</th>\n",
       "      <th>Fitness</th>\n",
       "      <th>Income</th>\n",
       "      <th>Miles</th>\n",
       "    </tr>\n",
       "  </thead>\n",
       "  <tbody>\n",
       "    <tr>\n",
       "      <th>0</th>\n",
       "      <td>KP281</td>\n",
       "      <td>18</td>\n",
       "      <td>Male</td>\n",
       "      <td>14</td>\n",
       "      <td>Single</td>\n",
       "      <td>3</td>\n",
       "      <td>4</td>\n",
       "      <td>29562</td>\n",
       "      <td>112</td>\n",
       "    </tr>\n",
       "    <tr>\n",
       "      <th>1</th>\n",
       "      <td>KP281</td>\n",
       "      <td>19</td>\n",
       "      <td>Male</td>\n",
       "      <td>15</td>\n",
       "      <td>Single</td>\n",
       "      <td>2</td>\n",
       "      <td>3</td>\n",
       "      <td>31836</td>\n",
       "      <td>75</td>\n",
       "    </tr>\n",
       "    <tr>\n",
       "      <th>2</th>\n",
       "      <td>KP281</td>\n",
       "      <td>19</td>\n",
       "      <td>Female</td>\n",
       "      <td>14</td>\n",
       "      <td>Partnered</td>\n",
       "      <td>4</td>\n",
       "      <td>3</td>\n",
       "      <td>30699</td>\n",
       "      <td>66</td>\n",
       "    </tr>\n",
       "    <tr>\n",
       "      <th>3</th>\n",
       "      <td>KP281</td>\n",
       "      <td>19</td>\n",
       "      <td>Male</td>\n",
       "      <td>12</td>\n",
       "      <td>Single</td>\n",
       "      <td>3</td>\n",
       "      <td>3</td>\n",
       "      <td>32973</td>\n",
       "      <td>85</td>\n",
       "    </tr>\n",
       "    <tr>\n",
       "      <th>4</th>\n",
       "      <td>KP281</td>\n",
       "      <td>20</td>\n",
       "      <td>Male</td>\n",
       "      <td>13</td>\n",
       "      <td>Partnered</td>\n",
       "      <td>4</td>\n",
       "      <td>2</td>\n",
       "      <td>35247</td>\n",
       "      <td>47</td>\n",
       "    </tr>\n",
       "  </tbody>\n",
       "</table>\n",
       "</div>"
      ],
      "text/plain": [
       "  Product  Age  Gender  Education MaritalStatus  Usage  Fitness  Income  Miles\n",
       "0   KP281   18    Male         14        Single      3        4   29562    112\n",
       "1   KP281   19    Male         15        Single      2        3   31836     75\n",
       "2   KP281   19  Female         14     Partnered      4        3   30699     66\n",
       "3   KP281   19    Male         12        Single      3        3   32973     85\n",
       "4   KP281   20    Male         13     Partnered      4        2   35247     47"
      ]
     },
     "execution_count": 39,
     "metadata": {},
     "output_type": "execute_result"
    }
   ],
   "source": [
    "df.head()"
   ]
  },
  {
   "cell_type": "code",
   "execution_count": 40,
   "id": "cc64388d",
   "metadata": {},
   "outputs": [],
   "source": [
    "#Check if men have more income or not as compared to females\n",
    "\n",
    "income_male = df[df[\"Gender\"] == \"Male\"][\"Income\"]\n",
    "income_female = df[df[\"Gender\"] == \"Female\"][\"Income\"]"
   ]
  },
  {
   "cell_type": "code",
   "execution_count": 41,
   "id": "973a12c7",
   "metadata": {},
   "outputs": [
    {
     "data": {
      "text/plain": [
       "Gender\n",
       "Female    49828.907895\n",
       "Male      56562.759615\n",
       "Name: Income, dtype: float64"
      ]
     },
     "execution_count": 41,
     "metadata": {},
     "output_type": "execute_result"
    }
   ],
   "source": [
    "df.groupby(\"Gender\")[\"Income\"].mean()"
   ]
  },
  {
   "cell_type": "code",
   "execution_count": 42,
   "id": "e1820e30",
   "metadata": {},
   "outputs": [
    {
     "name": "stdout",
     "output_type": "stream",
     "text": [
      "0.003263631548607129\n",
      "Reject H0\n"
     ]
    }
   ],
   "source": [
    "#H0: same income\n",
    "#Ha: Male income is more than female income\n",
    "\n",
    "t_stat, p_value = ttest_ind(income_male, income_female, alternative = \"greater\")\n",
    "\n",
    "print(p_value)\n",
    "\n",
    "if p_value < 0.05:\n",
    "  print(\"Reject H0\")\n",
    "else:\n",
    "  print(\"Fail to reject H0\")"
   ]
  },
  {
   "cell_type": "code",
   "execution_count": 43,
   "id": "12dd57a3",
   "metadata": {},
   "outputs": [
    {
     "data": {
      "text/plain": [
       "<Axes: xlabel='Gender', ylabel='Income'>"
      ]
     },
     "execution_count": 43,
     "metadata": {},
     "output_type": "execute_result"
    },
    {
     "data": {
      "image/png": "[encoded data removed]",
      "text/plain": [
       "<Figure size 640x480 with 1 Axes>"
      ]
     },
     "metadata": {},
     "output_type": "display_data"
    }
   ],
   "source": [
    "sns.boxplot(x= \"Gender\", y =\"Income\", data = df)"
   ]
  },
  {
   "cell_type": "markdown",
   "id": "a11f7307",
   "metadata": {},
   "source": [
    "# CHISQURED TEST"
   ]
  },
  {
   "cell_type": "markdown",
   "id": "1bb7407b",
   "metadata": {},
   "source": [
    "Q1.A national survey was conducted to obtain information on the alcohol consumption patterns of U.S. adults by marital status. A random sample of 1772 residents 18 years old and older yielded the data displayed in Table below:\n",
    "\n",
    "observed = [[67,213,74], [411,633,129], [85,51,7], [27,60,15]]"
   ]
  },
  {
   "cell_type": "code",
   "execution_count": 44,
   "id": "12fd016a",
   "metadata": {},
   "outputs": [
    {
     "name": "stdout",
     "output_type": "stream",
     "text": [
      "Test statistic: 94.26880078578765\n",
      "p-value: 3.925170647869838e-18\n",
      "Reject H0 (Null Hypothesis),i.e. Marital status and alcohol consumption are associated.\n"
     ]
    }
   ],
   "source": [
    "#H0: Marital status and alcohol consumption are not associated.\n",
    "#Ha: Marital status and alcohol consumption are associated.\n",
    "\n",
    "observed = [[67,213,74], [411,633,129], [85,51,7], [27,60,15]]\n",
    "\n",
    "test_statistic, p_value, dof, expected_values = chi2_contingency(observed)\n",
    "\n",
    "print(\"Test statistic:\", test_statistic)\n",
    "print(\"p-value:\", p_value)\n",
    "\n",
    "alpha = 0.05\n",
    "\n",
    "if(p_value < alpha):\n",
    "  print(\"Reject H0 (Null Hypothesis),i.e. Marital status and alcohol consumption are associated.\")\n",
    "else:\n",
    "  print(\"Fail to Reject H0 (Null Hypothesis),i.e. Marital status and alcohol consumption are not associated.\")\n"
   ]
  },
  {
   "cell_type": "markdown",
   "id": "ae16608e",
   "metadata": {},
   "source": [
    "Q2.Preventable chronic diseases are increasing rapidly in Native American populations, particularly diabetes. Below is a contingency table showing the cross-classification of educational attainment and diabetic state.\n",
    "\n",
    "observed = [[33, 218],[25, 389],[20, 393],[17, 178]]"
   ]
  },
  {
   "cell_type": "code",
   "execution_count": 45,
   "id": "f82e231a",
   "metadata": {},
   "outputs": [
    {
     "name": "stdout",
     "output_type": "stream",
     "text": [
      "Test statistic: 17.51186847271713\n",
      "p-value: 0.000554511571355531\n",
      "Reject H0 (Null Hypothesis),i.e. educational level and diabetic state are associated\n"
     ]
    }
   ],
   "source": [
    "#H0: educational level and diabetic state are not associated\n",
    "#Ha: educational level and diabetic state are associated\n",
    "\n",
    "observed = [[33, 218],[25, 389],[20, 393],[17, 178]]\n",
    "\n",
    "test_statistic, p_value, dof, expected_values = chi2_contingency(observed)\n",
    "\n",
    "print(\"Test statistic:\", test_statistic)\n",
    "print(\"p-value:\", p_value)\n",
    "\n",
    "alpha = 0.01\n",
    "\n",
    "if(p_value < alpha):\n",
    "  print(\"Reject H0 (Null Hypothesis),i.e. educational level and diabetic state are associated\")\n",
    "else:\n",
    "  print(\"Fail to Reject H0 (Null Hypothesis),i.e. educational level and diabetic state are not associated\")\n"
   ]
  },
  {
   "cell_type": "markdown",
   "id": "0ac2dba0",
   "metadata": {},
   "source": [
    "Q3.A worldwide poll on religion was conducted by WIN-Gallup International and published as the document Global Index of Religiosity and Atheism. One question involved religious belief and educational attainment.\n",
    "\n",
    "The following data is based on the answers to that question.\n",
    "\n",
    "observed = [[77, 149, 78],[23, 56, 36],[8, 24, 29],[6, 15, 8]]"
   ]
  },
  {
   "cell_type": "code",
   "execution_count": 46,
   "id": "fc692ffd",
   "metadata": {},
   "outputs": [
    {
     "name": "stdout",
     "output_type": "stream",
     "text": [
      "Test statistic: 13.322313008960627\n",
      "p-value: 0.038193742691133806\n",
      "Reject H0 (Null Hypothesis),i.e. religiosity and education are associated\n"
     ]
    }
   ],
   "source": [
    "#H0: religiosity and education are not associated\n",
    "#Ha: religiosity and education are associated\n",
    "\n",
    "observed = [[77, 149, 78],[23, 56, 36],[8, 24, 29],[6, 15, 8]]\n",
    "\n",
    "test_statistic,p_value,dof,expected_values=chi2_contingency(observed)\n",
    "print(\"Test statistic:\", test_statistic)\n",
    "print(\"p-value:\", p_value)\n",
    "\n",
    "alpha = 0.05\n",
    "\n",
    "if(p_value < alpha):\n",
    "  print(\"Reject H0 (Null Hypothesis),i.e. religiosity and education are associated\")\n",
    "else:\n",
    "  print(\"Fail to Reject H0 (Null Hypothesis),i.e. religiosity and education are not associated\")"
   ]
  },
  {
   "cell_type": "markdown",
   "id": "e07a840d",
   "metadata": {},
   "source": [
    "Q4.Nationwide surveys as a public service and for research. This problem is based on the results of one such poll that asked independent random samples of adults in urban, suburban, and rural regions,\n",
    "\n",
    "\"Do you support or oppose requiring background checks for all gun buyers?\"\n",
    "\n",
    "The survey results are in the table below: observed = [[335, 348, 318], [35, 23, 50]]\n",
    "\n",
    "At the 1% significance level, do the data provide sufficient evidence to conclude that there is any association between response and three regions?\n",
    "\n",
    "Choose the correct option below :"
   ]
  },
  {
   "cell_type": "code",
   "execution_count": 47,
   "id": "af3cca93",
   "metadata": {},
   "outputs": [
    {
     "name": "stdout",
     "output_type": "stream",
     "text": [
      "p-value: 0.00315\n",
      "Since p_value < 0.01 we reject the null hypothesis (i.e. response and regions are associated)\n"
     ]
    }
   ],
   "source": [
    "#H0 : response and regions are not associated\n",
    "#Ha : response and regions are associated\n",
    "\n",
    "observed = [[335, 348, 318], [35, 23, 50]]\n",
    "\n",
    "test_statistic, p_value, dof, expected = chi2_contingency(observed)\n",
    "print('p-value:',round(p_value,5))\n",
    "\n",
    "if p_value > 0.01:\n",
    "  print('Since p_value > 0.01 we fail to reject the null hypothesis(i.e.response and regions are not associated)')\n",
    "\n",
    "else:\n",
    "  print('Since p_value < 0.01 we reject the null hypothesis (i.e. response and regions are associated)')"
   ]
  },
  {
   "cell_type": "markdown",
   "id": "66dcf9bd",
   "metadata": {},
   "source": [
    "Q5.A random sample of adults yielded the following data on age and Internet usage.At the 1% significance level, does the data provide sufficient evidence to conclude that an association exists between age and Internet usage?\n",
    "\n",
    "Choose the correct option below :\n",
    "\n",
    "observed = [[6, 38, 31], [14, 31, 4],[50, 50, 5]]"
   ]
  },
  {
   "cell_type": "code",
   "execution_count": 48,
   "id": "9060fd63",
   "metadata": {},
   "outputs": [
    {
     "name": "stdout",
     "output_type": "stream",
     "text": [
      "Test statistic: 60.74604310295546\n",
      "p-value: 2.0217185191724964e-12\n",
      "Here p_value is nearly equal to 0\n",
      "Reject H0 (Null Hypothesis),i.e. Age and Internet usage are associated\n"
     ]
    }
   ],
   "source": [
    "#H0: Age and Internet usage are not associated\n",
    "#Ha: Age and Internet usage are associated\n",
    "\n",
    "observed = [[6, 38, 31], [14, 31, 4],[50, 50, 5]]\n",
    "\n",
    "test_statistic, p_value, dof, expected = chi2_contingency(observed)\n",
    "\n",
    "print(\"Test statistic:\", test_statistic)\n",
    "print(\"p-value:\", p_value)\n",
    "print(\"Here p_value is nearly equal to 0\")\n",
    "\n",
    "alpha = 0.01\n",
    "\n",
    "if(p_value < alpha):\n",
    "  print(\"Reject H0 (Null Hypothesis),i.e. Age and Internet usage are associated\")\n",
    "else:\n",
    "  print(\"Fail to Reject H0 (Null Hypothesis),i.e. Age and Internet usage are not associated\")\n"
   ]
  },
  {
   "cell_type": "markdown",
   "id": "f2e355de",
   "metadata": {},
   "source": [
    "Q6.The U.S. Census Bureau compiles information on the money income of people by type of residence and publishes its finding in Current Population Reports.\n",
    "\n",
    "Independent simple random samples of people residing inside principal cities (IPC), outside principal cities but within metropolitan areas (OPC), and outside metropolitan areas (OMA),\n",
    "\n",
    "Gave the following data on income level.\n",
    "\n",
    "observed = [[75, 106, 46],[106, 161, 61],[98, 183, 52],[48, 102, 14]]"
   ]
  },
  {
   "cell_type": "code",
   "execution_count": 49,
   "id": "25164d86",
   "metadata": {},
   "outputs": [
    {
     "name": "stdout",
     "output_type": "stream",
     "text": [
      "Test statistic: 15.727554171801787\n",
      "p-value: 0.015293451318673136\n",
      "Reject H0 (Null Hypothesis),i.e. type of residence is related to income level\n"
     ]
    }
   ],
   "source": [
    "#H0: type of residence is not related to income level\n",
    "#Ha: type of residence is related to income level\n",
    "\n",
    "observed = [[75, 106, 46],[106, 161, 61],[98, 183, 52],[48, 102, 14]]\n",
    "\n",
    "test_statistic, p_value, dof, expected = chi2_contingency(observed)\n",
    "\n",
    "print(\"Test statistic:\", test_statistic)\n",
    "print(\"p-value:\", p_value)\n",
    "\n",
    "alpha = 0.05\n",
    "\n",
    "if(p_value < alpha):\n",
    "  print(\"Reject H0 (Null Hypothesis),i.e. type of residence is related to income level\")\n",
    "else:\n",
    "  print(\"Fail to Reject H0 (Null Hypothesis),i.e. type of residence is not related to income level\")"
   ]
  },
  {
   "cell_type": "markdown",
   "id": "85959619",
   "metadata": {},
   "source": [
    "Q7.According to a survey conducted on car owners, it was determined that 60% of owners have only one car, 28% have two cars, and 12% have three or more cars.\n",
    "\n",
    "Suppose you conducted your own survey and found that 73 owners have only one car, 38 owners have two cars, and 18 owners have three or more cars.\n",
    "\n",
    "Determine whether your survey supports the original one, with a significance level of 0.05."
   ]
  },
  {
   "cell_type": "code",
   "execution_count": 50,
   "id": "9a93f547",
   "metadata": {},
   "outputs": [
    {
     "name": "stdout",
     "output_type": "stream",
     "text": [
      "total_sample_size is:  129\n",
      "expected_counts is:  [77.4  36.12 15.48]\n",
      "Chi-Square Statistic: 0.7582133628645247\n",
      "P-value: 0.6844725882551137\n",
      "Fail to reject the null hypothesis. Your survey results are consistent with the original survey.\n"
     ]
    }
   ],
   "source": [
    "# Original survey distribution\n",
    "expected_distribution = np.array([0.60, 0.28, 0.12])\n",
    "\n",
    "# Your survey results\n",
    "observed_distribution = np.array([73, 38, 18])\n",
    "\n",
    "# Calculate the expected counts based on your sample size\n",
    "total_sample_size = observed_distribution.sum()\n",
    "print(\"total_sample_size is: \",total_sample_size)\n",
    "expected_counts = expected_distribution * total_sample_size\n",
    "print(\"expected_counts is: \",expected_counts)\n",
    "\n",
    "# Perform the Chi-Square Goodness of Fit test\n",
    "chi_squared_stat, p_value = chisquare(f_obs=observed_distribution, f_exp=expected_counts)\n",
    "\n",
    "# Define the significance level (alpha)\n",
    "alpha = 0.05\n",
    "\n",
    "print(f\"Chi-Square Statistic: {chi_squared_stat}\")\n",
    "print(f\"P-value: {p_value}\")\n",
    "\n",
    "# Check if the p-value is less than alpha to determine significance\n",
    "if p_value < alpha:\n",
    "    print(\"Reject the null hypothesis. Your survey results are significantly different.\")\n",
    "else:\n",
    "    print(\"Fail to reject the null hypothesis. Your survey results are consistent with the original survey.\")\n",
    "\n"
   ]
  },
  {
   "cell_type": "markdown",
   "id": "720d050c",
   "metadata": {},
   "source": [
    "Q8.Suppose you have a coin, Perform a test to check whether the coin is fair or biased. You toss the coin 100 times and get 48 heads and 52 tails. You want to determine if the coin is fair at a 5% significance level."
   ]
  },
  {
   "cell_type": "code",
   "execution_count": 51,
   "id": "3d22b502",
   "metadata": {},
   "outputs": [
    {
     "name": "stdout",
     "output_type": "stream",
     "text": [
      "Fail to reject the null hypothesis. The coin is fair.\n",
      "Chi-Square Statistic: 0.16\n",
      "P-value: 0.6891565167793516\n"
     ]
    }
   ],
   "source": [
    "#Approach-1\n",
    "\n",
    "#Null Hypothesis (H0): The coin is fair (p(heads) = 0.5).\n",
    "#Alternative Hypothesis (H1): The coin is not fair (p(heads) ≠ 0.5).\n",
    "\n",
    "observed_counts = np.array([48, 52])\n",
    "expected_counts = np.array([50, 50])\n",
    "\n",
    "chi_squared_stat, p_value = chisquare(f_obs=observed_counts, f_exp=expected_counts)\n",
    "\n",
    "alpha = 0.05\n",
    "\n",
    "if p_value < alpha:\n",
    "    print(\"Reject the null hypothesis. The coin is not fair.\")\n",
    "else:\n",
    "    print(\"Fail to reject the null hypothesis. The coin is fair.\")\n",
    "\n",
    "\n",
    "print(f\"Chi-Square Statistic: {chi_squared_stat}\")\n",
    "print(f\"P-value: {p_value}\")"
   ]
  },
  {
   "cell_type": "code",
   "execution_count": 52,
   "id": "4cb34794",
   "metadata": {},
   "outputs": [
    {
     "name": "stdout",
     "output_type": "stream",
     "text": [
      "Fail to reject the null hypothesis. The coin is fair.\n",
      "Chi-Square Statistic: 0.16\n",
      "P-value: 0.6891565167793516\n"
     ]
    }
   ],
   "source": [
    "#Approach-2\n",
    "\n",
    "#Null Hypothesis (H0): The coin is fair (p(heads) = 0.5).\n",
    "#Alternative Hypothesis (H1): The coin is not fair (p(heads) ≠ 0.5).\n",
    "\n",
    "# first parameter is chi square statisitcs and 2nd parameter is degree of freedom\n",
    "p_value = 1- chi2.cdf(chi_squared_stat, df=1) \n",
    "\n",
    "\n",
    "if p_value < alpha:\n",
    "    print(\"Reject the null hypothesis. The coin is not fair.\")\n",
    "else:\n",
    "    print(\"Fail to reject the null hypothesis. The coin is fair.\")\n",
    "\n",
    "\n",
    "print(f\"Chi-Square Statistic: {chi_squared_stat}\")\n",
    "print(f\"P-value: {p_value}\")"
   ]
  },
  {
   "cell_type": "markdown",
   "id": "fa8007d1",
   "metadata": {},
   "source": [
    "Q9.Suppose you are interested in the distribution of smartphone brands among a group of 200 people. You expect that 30% prefer Brand A, 40% prefer Brand B, and 30% prefer Brand C. You survey the group, and the results are as follows: 70 prefer Brand A, 80 prefer Brand B, and 50 prefer Brand C. You want to test if the distribution of preferences matches your expectations at a 5% significance level"
   ]
  },
  {
   "cell_type": "code",
   "execution_count": 53,
   "id": "6bd6251f",
   "metadata": {},
   "outputs": [
    {
     "name": "stdout",
     "output_type": "stream",
     "text": [
      "Chi-Square Statistic: 3.3333333333333335\n",
      "P-value: 0.1888756028375618\n",
      "Fail to reject the null hypothesis. The distribution of smartphone brand preferences matches the expected distribution.\n"
     ]
    }
   ],
   "source": [
    "#Null Hypothesis (H0): The distribution of smartphone brand preferences matches the expected distribution.\n",
    "#Alternative Hypothesis (H1): The distribution of smartphone brand preferences does not match the expected distribution.\n",
    "\n",
    "\n",
    "#Approch-1\n",
    "observed_counts = np.array([70, 80, 50])\n",
    "expected_counts = np.array([0.30 * 200, 0.40 * 200, 0.30 * 200])\n",
    "\n",
    "chi_squared_stat, p_value = chisquare(f_obs=observed_counts, f_exp=expected_counts)\n",
    "\n",
    "alpha = 0.05\n",
    "\n",
    "print(f\"Chi-Square Statistic: {chi_squared_stat}\")\n",
    "print(f\"P-value: {p_value}\")\n",
    "\n",
    "if p_value < alpha:\n",
    "    print(\"Reject the null hypothesis. The distribution of smartphone brand preferences does not match the expected distribution.\")\n",
    "else:\n",
    "    print(\"Fail to reject the null hypothesis. The distribution of smartphone brand preferences matches the expected distribution.\")\n",
    "\n"
   ]
  },
  {
   "cell_type": "code",
   "execution_count": 54,
   "id": "4ebaf6f9",
   "metadata": {},
   "outputs": [
    {
     "name": "stdout",
     "output_type": "stream",
     "text": [
      "P-value: 0.18887560283756177\n",
      "Fail to reject the null hypothesis.The distribution of smartphone brand preferences matches the expected distribution\n",
      "Chi-Square Statistic: 3.3333333333333335\n",
      "P-value: 0.18887560283756177\n"
     ]
    }
   ],
   "source": [
    "#Approach-2\n",
    "\n",
    "#Null Hypothesis (H0): The distribution of smartphone brand preferences matches the expected distribution.\n",
    "#Alternative Hypothesis (H1): The distribution of smartphone brand preferences does not match the expected distribution.\n",
    "\n",
    "# first parameter is chi square statisitcs we get above and 2nd parameter is degree of freedom\n",
    "p_value = 1- chi2.cdf(chi_squared_stat, df=2)\n",
    "\n",
    "# Print the p-value\n",
    "print(\"P-value:\", p_value)\n",
    "\n",
    "if p_value < alpha:\n",
    "    print(\"Reject the null hypothesis.The distribution of smartphone brand preferences does not match the expected distribution\")\n",
    "else:\n",
    "    print(\"Fail to reject the null hypothesis.The distribution of smartphone brand preferences matches the expected distribution\")\n",
    "\n",
    "print(f\"Chi-Square Statistic: {chi_squared_stat}\")\n",
    "print(f\"P-value: {p_value}\")"
   ]
  },
  {
   "cell_type": "markdown",
   "id": "4155690a",
   "metadata": {},
   "source": [
    "# ClassWork/Notes of CHISQURED-Test"
   ]
  },
  {
   "cell_type": "markdown",
   "id": "b5d4acb9",
   "metadata": {},
   "source": [
    "1.CHISQURED test is only applicable for Categorical columns data"
   ]
  },
  {
   "cell_type": "markdown",
   "id": "51a4282f",
   "metadata": {},
   "source": [
    "2.When we have to work with two categorical columns(Gender,Maritial_status) data, then on that case we need to use CHISQURED Test."
   ]
  },
  {
   "cell_type": "markdown",
   "id": "a70bd3db",
   "metadata": {},
   "source": [
    "3.Degree of Freedom(DOF)-Minimum value should be known to get the answer\n",
    "\n",
    "Degree of freedom=(no of rows-1)*(no of columns)"
   ]
  },
  {
   "cell_type": "markdown",
   "id": "587fa38b",
   "metadata": {},
   "source": [
    "4.Assumptions of Chi2 test\n",
    "\n",
    "    1.Both the variables are categorical\n",
    "\n",
    "    2.Observations are independent\n",
    "\n",
    "    3.Each cell is mutually exclusive\n",
    "\n",
    "    4.Expected value in each cell is greater than 5"
   ]
  },
  {
   "cell_type": "markdown",
   "id": "56a39800",
   "metadata": {},
   "source": [
    "5.When we know Obeserved and Expected value then-\n",
    "\n",
    "        chi_squared_stat, p_value = chisquare(Obeserved,Expected)\n",
    "              \n",
    "When we have to work with independant data(Only Observed value should be known) then-\n",
    "\n",
    "        test_statistic, p_value, dof, expected = chi2_contingency(observed)"
   ]
  },
  {
   "cell_type": "markdown",
   "id": "a5a4d66b",
   "metadata": {},
   "source": [
    "6.From the Contigency table, we have to pick the data as ROW-WISE"
   ]
  },
  {
   "cell_type": "markdown",
   "id": "36495c49",
   "metadata": {},
   "source": [
    "7.For Chi2 Test-\n",
    "\n",
    "    H0 always refers that(H0): Both the values are independant/Not associated\n",
    "    Ha always refers that(Ha): Both the values are dependant/associated"
   ]
  },
  {
   "cell_type": "markdown",
   "id": "a480a951",
   "metadata": {},
   "source": [
    "Coin toss"
   ]
  },
  {
   "cell_type": "code",
   "execution_count": 55,
   "id": "a378b553",
   "metadata": {},
   "outputs": [
    {
     "name": "stdout",
     "output_type": "stream",
     "text": [
      "chi_stat:  0.72\n",
      "p_value:  0.3961439091520741\n"
     ]
    }
   ],
   "source": [
    "#H0: Coin is fair\n",
    "#Ha: coin is biased\n",
    "\n",
    "alpha = 0.05\n",
    "\n",
    "chi_stat , p_value = chisquare(\n",
    "    [28, 22] , #observed\n",
    "    [25, 25]   #Default\n",
    ")\n",
    "\n",
    "print('chi_stat: ',chi_stat)\n",
    "print('p_value: ',p_value)"
   ]
  },
  {
   "cell_type": "code",
   "execution_count": 56,
   "id": "ad40439d",
   "metadata": {},
   "outputs": [
    {
     "data": {
      "text/plain": [
       "0.72"
      ]
     },
     "execution_count": 56,
     "metadata": {},
     "output_type": "execute_result"
    }
   ],
   "source": [
    "#Alternative method\n",
    "\n",
    "((28-25)**2)/25 + ((22-25)**2)/25"
   ]
  },
  {
   "cell_type": "code",
   "execution_count": 57,
   "id": "b6217024",
   "metadata": {},
   "outputs": [
    {
     "name": "stdout",
     "output_type": "stream",
     "text": [
      "0.3961439091520741\n"
     ]
    }
   ],
   "source": [
    "print(p_value)"
   ]
  },
  {
   "cell_type": "code",
   "execution_count": 58,
   "id": "d15757be",
   "metadata": {},
   "outputs": [
    {
     "data": {
      "text/plain": [
       "0.3961439091520741"
      ]
     },
     "execution_count": 58,
     "metadata": {},
     "output_type": "execute_result"
    }
   ],
   "source": [
    "1 - chi2.cdf(0.72, df = 1) #finding p-value this way using chi2 stat value"
   ]
  },
  {
   "cell_type": "code",
   "execution_count": 59,
   "id": "31e2d2e4",
   "metadata": {},
   "outputs": [],
   "source": [
    "#find critical value of chisquare with 95% confidence: 5% significance"
   ]
  },
  {
   "cell_type": "code",
   "execution_count": 60,
   "id": "56fa658d",
   "metadata": {},
   "outputs": [],
   "source": [
    "chi2.ppf(0.95, df=1)\n",
    "\n",
    "if p_value < alpha:\n",
    "  print(\"Reject H0\")"
   ]
  },
  {
   "cell_type": "raw",
   "id": "5647931f",
   "metadata": {},
   "source": [
    "Gender vs offline and online"
   ]
  },
  {
   "cell_type": "code",
   "execution_count": 61,
   "id": "bfaeb250",
   "metadata": {},
   "outputs": [
    {
     "name": "stdout",
     "output_type": "stream",
     "text": [
      "chi_stat:  57.04098674049609\n",
      "p_value:  4.268230756875865e-14\n",
      "df:  1\n",
      "exp_freq:  [[484.08710033 114.91289967]\n",
      " [248.91289967  59.08710033]]\n",
      "Reject H0\n",
      "Gender has impact on Preference\n"
     ]
    }
   ],
   "source": [
    "#Testing independence with chi2_contingency\n",
    "\n",
    "#HW--> explore crosstab --> pandas\n",
    "\n",
    "#H0: Gender and Preference are independent\n",
    "#Ha: Gender is dependent of preference (online/offline)\n",
    "\n",
    "\n",
    "observed = [\n",
    "    [527, 72],\n",
    "    [206, 102]\n",
    "]\n",
    "\n",
    "chi_stat, p_value, df , exp_freq = chi2_contingency(observed)\n",
    "print('chi_stat: ',chi_stat)\n",
    "print('p_value: ',p_value)\n",
    "print('df: ',df)\n",
    "print('exp_freq: ',exp_freq)\n",
    "\n",
    "if p_value < alpha:\n",
    "  print(\"Reject H0\")\n",
    "  print(\"Gender has impact on Preference\")\n",
    "else:\n",
    "  print(\"Fail to reject\")\n",
    "  print(\"Gender has no impact on preference\")"
   ]
  },
  {
   "cell_type": "code",
   "execution_count": 62,
   "id": "93b199f2",
   "metadata": {},
   "outputs": [
    {
     "data": {
      "text/plain": [
       "483.78000000000003"
      ]
     },
     "execution_count": 62,
     "metadata": {},
     "output_type": "execute_result"
    }
   ],
   "source": [
    "0.66*733"
   ]
  },
  {
   "cell_type": "markdown",
   "id": "148b9d2a",
   "metadata": {},
   "source": [
    "#Assumptions of Chi2 test\n",
    "\n",
    "    Both the variables are categorical\n",
    "\n",
    "    Observations are independent\n",
    "\n",
    "    Each cell is mutually exclusive\n",
    "\n",
    "    Expected value in each cell is greater than 5\n"
   ]
  },
  {
   "cell_type": "markdown",
   "id": "372357c8",
   "metadata": {},
   "source": [
    "# ANOVA"
   ]
  },
  {
   "cell_type": "markdown",
   "id": "0ef779a6",
   "metadata": {},
   "source": [
    "Q1.Independent simple random samples of households in the four regions yielded the data on last year’s energy consumptions.\n",
    "\n",
    "a = [13, 8, 11, 12, 11]\n",
    "\n",
    "b = [15, 10, 16, 11, 13, 10]\n",
    "\n",
    "c = [5, 11, 9, 5]\n",
    "\n",
    "d = [8, 10, 6, 5, 7]\n",
    "\n",
    "At the 5% significance level, do the data provide sufficient evidence to conclude that a difference exists in last year’s mean energy consumption by households among the four regions?\n",
    "\n",
    "Choose the correct option below :"
   ]
  },
  {
   "cell_type": "code",
   "execution_count": 63,
   "id": "458db4fa",
   "metadata": {},
   "outputs": [
    {
     "name": "stdout",
     "output_type": "stream",
     "text": [
      "0.0049302919205628576\n",
      "Reject H0\n",
      "Difference exists in last year’s mean energy consumption by households among the four regions\n"
     ]
    }
   ],
   "source": [
    "# H0 : mean energy consumptions are equal\n",
    "#Ha : Not all the means are equal\n",
    "\n",
    "a = [13, 8, 11, 12, 11]\n",
    "b = [15, 10, 16, 11, 13, 10]\n",
    "c = [5, 11, 9, 5]\n",
    "d = [8, 10, 6, 5, 7]\n",
    "\n",
    "test_statistic, p_value = f_oneway(a,b,c,d)\n",
    "\n",
    "print(p_value)\n",
    "\n",
    "if p_value < 0.05:\n",
    "  print(\"Reject H0\")\n",
    "  print(\"Difference exists in last year’s mean energy consumption by households among the four regions\")\n",
    "else:\n",
    "  print(\"Fail to reject H0\")\n",
    "  print(\"No difference exists in last year’s mean energy consumption by households among the four regions\") "
   ]
  },
  {
   "cell_type": "markdown",
   "id": "87d6ebd2",
   "metadata": {},
   "source": [
    "Q2.\"www.goodreads.com\" is a website where people can leave their review about book and rate them. The books are rated from 5 stars (5), indicating a very good book, to 1 star (1), which means not worth reading, as per the reviews by members. The following table gives the number of pages of a random sample of books listed in the site.\n",
    "\n",
    "one_star = [382, 391, 335, 368, 400, 372]\n",
    "\n",
    "two_star = [560, 343, 512, 329, 391, 367]\n",
    "\n",
    "three_star = [384, 458, 409, 309, 374, 459]\n",
    "\n",
    "four_star = [325, 390, 304, 240, 306, 169]\n",
    "\n",
    "five_star = [360, 298, 272, 368, 320, 326]\n",
    "\n",
    "At the 1% significance level, do the data provide sufficient evidence to conclude that a difference exists in mean number of pages among books in the five rating groups?\n",
    "\n",
    "Choose the correct option below :"
   ]
  },
  {
   "cell_type": "code",
   "execution_count": 64,
   "id": "885bbddc",
   "metadata": {},
   "outputs": [
    {
     "name": "stdout",
     "output_type": "stream",
     "text": [
      "p_value:  0.009362001936328837\n",
      "Reject H0\n",
      "Difference exists in mean number of pages among books in the five rating groups\n"
     ]
    }
   ],
   "source": [
    "#H0 : no difference exists in mean number of pages among books in the five rating groups\n",
    "#Ha : difference exists in mean number of pages among books in the five rating groups\n",
    "\n",
    "one_star = [382, 391, 335, 368, 400, 372]\n",
    "two_star = [560, 343, 512, 329, 391, 367]\n",
    "three_star = [384, 458, 409, 309, 374, 459]\n",
    "four_star = [325, 390, 304, 240, 306, 169]\n",
    "five_star = [360, 298, 272, 368, 320, 326]\n",
    "\n",
    "test_statistic, p_value = f_oneway(one_star, two_star, three_star, four_star, five_star)\n",
    "\n",
    "print('p_value: ',p_value)\n",
    "\n",
    "if p_value < 0.01:\n",
    "  print(\"Reject H0\")\n",
    "  print(\"Difference exists in mean number of pages among books in the five rating groups\")\n",
    "else:\n",
    "  print(\"Fail to reject H0\")\n",
    "  print(\"No difference exists in mean number of pages among books in the five rating groups\")"
   ]
  },
  {
   "cell_type": "markdown",
   "id": "5c4643be",
   "metadata": {},
   "source": [
    "Q3.Consumer Reports publishes reviews and comparisons of products based on results from its laboratory. Data from their website gave the following table for battery lives in hours, for samples of SmartPhones made by four different mobile companies.\n",
    "\n",
    "The four brands are iPhone 13, iPhone 11, One Plus 10, and Samsang Galaxy S21, but we have not used the names and have permuted the order.\n",
    "\n",
    "Brand_A = [19.60, 18.82, 19.00, 18.45, 19.79, 19.03, 17.89, 19.42]\n",
    "\n",
    "Brand_B = [21.10, 20.00, 20.43, 19.67, 18.99, 19.98, 20.14, 19.78]\n",
    "\n",
    "Brand_C = [10.31, 10.02, 9.41, 9.89, 10.05, 10.52, 11.02, 10.42]\n",
    "\n",
    "Brand_D = [17.02, 16.71, 17.78, 18.65, 15.98, 17.63, 17.00, 16.78, 16.92, 17.14]\n",
    "\n",
    "At the 5% significance level, do the data provide sufficient evidence to conclude that a difference exists in mean battery life among the four brands?\n",
    "\n",
    "Choose the correct option below :"
   ]
  },
  {
   "cell_type": "code",
   "execution_count": 65,
   "id": "4ec72bfe",
   "metadata": {},
   "outputs": [
    {
     "name": "stdout",
     "output_type": "stream",
     "text": [
      "p_value:  2.392149441499325e-24\n",
      "Reject H0\n",
      "Difference exists in mean battery life among the four brands\n"
     ]
    }
   ],
   "source": [
    "#H0 : no difference exists in mean battery life among the four brands\n",
    "#Ha : difference exists in mean battery life among the four brands\n",
    "\n",
    "Brand_A = [19.60, 18.82, 19.00, 18.45, 19.79, 19.03, 17.89, 19.42]\n",
    "Brand_B = [21.10, 20.00, 20.43, 19.67, 18.99, 19.98, 20.14, 19.78]\n",
    "Brand_C = [10.31, 10.02, 9.41, 9.89, 10.05, 10.52, 11.02, 10.42]\n",
    "Brand_D = [17.02, 16.71, 17.78, 18.65, 15.98, 17.63, 17.00, 16.78, 16.92, 17.14]\n",
    "\n",
    "test_statistic, p_value = f_oneway(Brand_A, Brand_B, Brand_C, Brand_D)\n",
    "\n",
    "print('p_value: ',p_value)\n",
    "\n",
    "if p_value < 0.05:\n",
    "  print(\"Reject H0\")\n",
    "  print(\"Difference exists in mean battery life among the four brands\")\n",
    "else:\n",
    "  print(\"Fail to reject H0\")\n",
    "  print(\"No difference exists in mean battery life among the four brands\") "
   ]
  },
  {
   "cell_type": "markdown",
   "id": "5b7e7902",
   "metadata": {},
   "source": [
    "Q4.Highway Administration conducts annual surveys on motor vehicle travel by type of vehicle and publishes its findings in Highway Statistics. Independent simple random samples of cars, buses, and trucks yielded the data on number of thousands of miles driven last year.\n",
    "\n",
    "cars = [19.9, 15.3, 2.2, 6.8, 34.2, 8.3, 12.0, 7.0, 9.5, 1.1]\n",
    "\n",
    "buses = [1.8, 24.6, 7.2, 37.0, 7.2, 21.2, 6.5, 23.6]\n",
    "\n",
    "trucks = [13.3, 23.0, 25.4, 15.3, 57.1, 14.5, 26.0]\n",
    "\n",
    "We want to decide whether a difference exists in last year’s mean number of miles driven among cars, buses, and trucks.\n",
    "\n",
    "At the 7% significance level, do the data provide sufficient evidence to conclude that a difference exists in last year’s mean number of miles driven among cars, buses, and trucks.\n",
    "\n",
    "Choose the correct option below :"
   ]
  },
  {
   "cell_type": "code",
   "execution_count": 66,
   "id": "5b557290",
   "metadata": {},
   "outputs": [
    {
     "name": "stdout",
     "output_type": "stream",
     "text": [
      "p_value:  0.10782985675757563\n",
      "Fail to reject H0\n",
      "No difference exists in last year’s mean number of miles driven among cars, buses, and trucks.\n"
     ]
    }
   ],
   "source": [
    "#H0 : no difference exists in last year’s mean number of miles driven among cars, buses, and trucks.\n",
    "#Ha : difference exists in last year’s mean number of miles driven among cars, buses, and trucks.\n",
    "\n",
    "cars = [19.9, 15.3, 2.2, 6.8, 34.2, 8.3, 12.0, 7.0, 9.5, 1.1]\n",
    "buses = [1.8, 24.6, 7.2, 37.0, 7.2, 21.2, 6.5, 23.6]\n",
    "trucks = [13.3, 23.0, 25.4, 15.3, 57.1, 14.5, 26.0]\n",
    "\n",
    "test_statistic, p_value = f_oneway(cars, buses, trucks)\n",
    "\n",
    "print('p_value: ',p_value)\n",
    "\n",
    "\n",
    "if p_value < 0.07:\n",
    "  print(\"Reject H0\")\n",
    "  print(\"Difference exists in last year’s mean number of miles driven among cars, buses, and trucks.\")\n",
    "else:\n",
    "  print(\"Fail to reject H0\")\n",
    "  print(\"No difference exists in last year’s mean number of miles driven among cars, buses, and trucks.\") "
   ]
  },
  {
   "cell_type": "markdown",
   "id": "a056453d",
   "metadata": {},
   "source": [
    "Q5.Check whether there is a significant difference (consider a 1% significance level) in the mean height of three groups of adult people. Height is in inches.\n",
    "\n",
    "college_students = [71, 62, 63, 59, 67, 68, 63, 62, 66, 65, 61, 60]\n",
    "\n",
    "athletes = [67, 68, 72, 66, 65, 69, 71, 70, 65, 64, 68]\n",
    "\n",
    "army = [68, 67, 66, 68, 69, 70, 71, 69, 66, 67]\n",
    "\n",
    "Choose the correct option below :"
   ]
  },
  {
   "cell_type": "code",
   "execution_count": 67,
   "id": "1775957e",
   "metadata": {},
   "outputs": [
    {
     "name": "stdout",
     "output_type": "stream",
     "text": [
      "F-statistic: 7.899836075209478\n",
      "p-value: 0.0017534092082519943\n",
      "Reject the null hypothesis. There is a significant difference in the mean height of the three groups.\n"
     ]
    }
   ],
   "source": [
    "#Null Hypothesis (H0): The mean heights of the three groups are equal.\n",
    "#Alternative Hypothesis (Ha): At least one mean height is different from the others.\n",
    "\n",
    "# Data\n",
    "college_students = [71, 62, 63, 59, 67, 68, 63, 62, 66, 65, 61, 60]\n",
    "athletes = [67, 68, 72, 66, 65, 69, 71, 70, 65, 64, 68]\n",
    "army = [68, 67, 66, 68, 69, 70, 71, 69, 66, 67]\n",
    "\n",
    "# Perform ANOVA test\n",
    "f_statistic, p_value = f_oneway(college_students, athletes, army)\n",
    "\n",
    "# Significance level (alpha)\n",
    "alpha = 0.01\n",
    "\n",
    "# Compare p-value with significance level\n",
    "if p_value < alpha:\n",
    "    conclusion = \"Reject the null hypothesis. There is a significant difference in the mean height of the three groups.\"\n",
    "else:\n",
    "    conclusion = \"Fail to reject the null hypothesis. There is no significant difference in the mean height of the three groups.\"\n",
    "\n",
    "print(\"F-statistic:\", f_statistic)\n",
    "print(\"p-value:\", p_value)\n",
    "print(conclusion)"
   ]
  },
  {
   "cell_type": "markdown",
   "id": "20dcfc8e",
   "metadata": {},
   "source": [
    "Q6.Suppose you have data on 150 students' exam scores, and you want to test if the distribution of scores falls within\n",
    "\n",
    "predefined categories. The expected distribution is 30% in the \"Excellent\" category, 40% in the \"Good\" category, and 30% in the\n",
    "\n",
    "\"Average\" category. You observe that 45 students fall into the \"Excellent\" category, 50students into the \"Good\" category, and\n",
    "\n",
    "55 students into the \"Average\" category. You want to test if the distribution matches expectations at a 5% significance level."
   ]
  },
  {
   "cell_type": "code",
   "execution_count": 68,
   "id": "2ff1b3c2",
   "metadata": {},
   "outputs": [
    {
     "name": "stdout",
     "output_type": "stream",
     "text": [
      "Fail to reject the null hypothesis. The distribution of exam scores matches the expected distribution.\n",
      "Chi-Square Statistic: 3.8888888888888893\n",
      "P-value: 0.1430666827544082\n"
     ]
    }
   ],
   "source": [
    "#Approach-1\n",
    "\n",
    "#Null Hypothesis (H0): The distribution of exam scores matches the expected distribution.\n",
    "#Alternative Hypothesis (H1): The distribution of exam scores does not match the expected distribution.\n",
    "\n",
    "observed_counts = np.array([45, 50, 55])\n",
    "expected_counts = np.array([0.30 * 150, 0.40 * 150, 0.30 * 150])\n",
    "\n",
    "chi_squared_stat, p_value =chisquare(f_obs=observed_counts, f_exp=expected_counts)\n",
    "\n",
    "alpha = 0.05\n",
    "\n",
    "if p_value < alpha:\n",
    "    print(\"Reject the null hypothesis. The distribution of exam scores does not match the expected distribution.\")\n",
    "else:\n",
    "    print(\"Fail to reject the null hypothesis. The distribution of exam scores matches the expected distribution.\")\n",
    "\n",
    "print(f\"Chi-Square Statistic: {chi_squared_stat}\")\n",
    "print(f\"P-value: {p_value}\")"
   ]
  },
  {
   "cell_type": "code",
   "execution_count": 69,
   "id": "eae5c0be",
   "metadata": {},
   "outputs": [
    {
     "name": "stdout",
     "output_type": "stream",
     "text": [
      "P-value: 0.14306668275440826\n"
     ]
    }
   ],
   "source": [
    "#pproach 2\n",
    " \n",
    "from scipy.stats import chi2\n",
    "\n",
    "# first parameter is chi square statisitcs and 2nd parameter is degree of freedom\n",
    "p_value = 1- chi2.cdf(chi_squared_stat, df=2) \n",
    "\n",
    "# Print the p-value\n",
    "print(\"P-value:\", p_value)"
   ]
  },
  {
   "cell_type": "markdown",
   "id": "1a372fd4",
   "metadata": {},
   "source": [
    "Q7.Suppose you are interested in the distribution of the time spent by users on a website. You expect that 20% of users spend\n",
    "\n",
    "less than 5 minutes, 50% spend between 5 and 10 minutes, and 30% spend more than 10 minutes. After collecting data from 200 \n",
    "\n",
    "users, you find that 30 users spent less than 5 minutes, 85 users spent between 5 and 10 minutes, and 85 users spent more than\n",
    "\n",
    "10 minutes. Test if the distribution of browsing times matches your expectations at a 5% significance level."
   ]
  },
  {
   "cell_type": "code",
   "execution_count": 70,
   "id": "548ede27",
   "metadata": {},
   "outputs": [
    {
     "name": "stdout",
     "output_type": "stream",
     "text": [
      "Reject the null hypothesis: The distribution of browsing times does not match expectations.\n",
      "Chi-Square Statistic: 15.166666666666666\n",
      "P-value: 0.0005088621855732918\n"
     ]
    }
   ],
   "source": [
    "#Approach 1\n",
    "\n",
    "#Null Hypothesis (H0): The distribution of browsing times matches the expected distribution.\n",
    "#Alternative Hypothesis (H1): The distribution of browsing times does not match the expected distribution.\n",
    "\n",
    "observed_counts = np.array([30, 85, 85])\n",
    "expected_counts = np.array([0.20 * 200, 0.50 * 200, 0.30 * 200])\n",
    "\n",
    "chi_squared_stat, p_value =chisquare(f_obs=observed_counts, f_exp=expected_counts)\n",
    "\n",
    "alpha = 0.05\n",
    "\n",
    "if p_value < alpha:\n",
    "    print(\"Reject the null hypothesis: The distribution of browsing times does not match expectations.\")\n",
    "else:\n",
    "    print(\"Fail to reject the null hypothesis: The distribution of browsing times matches expectations.\")\n",
    "\n",
    "print(f\"Chi-Square Statistic: {chi_squared_stat}\")\n",
    "print(f\"P-value: {p_value}\")"
   ]
  },
  {
   "cell_type": "code",
   "execution_count": 71,
   "id": "2d371c13",
   "metadata": {},
   "outputs": [
    {
     "name": "stdout",
     "output_type": "stream",
     "text": [
      "P-value: 0.0005088621855733333\n"
     ]
    }
   ],
   "source": [
    "#Approach 2 \n",
    "\n",
    "# first parameter is chi square statisitcs and 2nd parameter is degree of freedom\n",
    "p_value = 1- chi2.cdf(chi_squared_stat, df=2) \n",
    "\n",
    "# Print the p-value\n",
    "print(\"P-value:\", p_value)"
   ]
  },
  {
   "cell_type": "markdown",
   "id": "b1c93642",
   "metadata": {},
   "source": [
    "# ClassWork/Notes of ANNOVA"
   ]
  },
  {
   "cell_type": "markdown",
   "id": "c2d6be6e",
   "metadata": {},
   "source": [
    "1.Anova is nothing but the analysis of Variance"
   ]
  },
  {
   "cell_type": "markdown",
   "id": "3062398b",
   "metadata": {},
   "source": [
    "2.variance of 5,6,7\n",
    "\n",
    "    Step 1: mean = (5 + 6 + 7)/3 = 18/3 = 6 \n",
    "    \n",
    "    Step 2: (5 – 6)2 + (6 – 6)2 + (7 – 6)2 = (-1)2 + 0 + (1)2 \n",
    "    \n",
    "    Step 3: (1 + 0 + 1)/3 =2/3= 0.667"
   ]
  },
  {
   "cell_type": "markdown",
   "id": "be525ba7",
   "metadata": {},
   "source": [
    "3.1.Anova test comes into picture when we have to test with Numerical Vs Categorical data(Income Vs Product(egKP1,KP2,KP3)). \n",
    "    \n",
    "    2.It will only work with more than 2-categorical data. \n",
    "\n",
    "    3.For anova \n",
    "        \n",
    "        H0= all mean are equal \n",
    "        \n",
    "        Ha=Not all mean are equal \n",
    "    \n",
    "    4.syntax= f_oneway(sample1,sample2,sample3)"
   ]
  },
  {
   "cell_type": "markdown",
   "id": "104a37dc",
   "metadata": {},
   "source": [
    "4.There is some assumption present to validate wheather the data can be test through Anova or not \n",
    "\n",
    "    1.Data should be Gaussian \n",
    "    \n",
    "        a.we can check by histgram -->eg=sns.histplot(data) \n",
    "       \n",
    "        b.By qqplot-->eg=qqplot(data=data,line='s') \n",
    "       \n",
    "        c.it should pass shapiro test for shapiro sample size should be within 50-200\n",
    "        \n",
    "        and H0=data should be gaussian \n",
    "        \n",
    "            Ha=data is not gaussian \n",
    "               \n",
    "               syntax=shapiro(data) \n",
    "                \n",
    "    2.Equal variance this test is used to check wheather the variance difference is by chance or significant \n",
    "   \n",
    "       H0=varicance are equal \n",
    "       \n",
    "       Ha=variance are not equal levene(data1, data2) \n",
    "    \n",
    "** If all the above assumption passed then we can do Anova test "
   ]
  },
  {
   "cell_type": "markdown",
   "id": "5db67815",
   "metadata": {},
   "source": [
    "5. If any of the Anova(Or H0 is got rejected) failed then in that case we have to use kruskal Test kruskal(data)"
   ]
  },
  {
   "cell_type": "code",
   "execution_count": 72,
   "id": "b2c3b108",
   "metadata": {},
   "outputs": [
    {
     "data": {
      "text/html": [
       "<div>\n",
       "<style scoped>\n",
       "    .dataframe tbody tr th:only-of-type {\n",
       "        vertical-align: middle;\n",
       "    }\n",
       "\n",
       "    .dataframe tbody tr th {\n",
       "        vertical-align: top;\n",
       "    }\n",
       "\n",
       "    .dataframe thead th {\n",
       "        text-align: right;\n",
       "    }\n",
       "</style>\n",
       "<table border=\"1\" class=\"dataframe\">\n",
       "  <thead>\n",
       "    <tr style=\"text-align: right;\">\n",
       "      <th></th>\n",
       "      <th>Product</th>\n",
       "      <th>Age</th>\n",
       "      <th>Gender</th>\n",
       "      <th>Education</th>\n",
       "      <th>MaritalStatus</th>\n",
       "      <th>Usage</th>\n",
       "      <th>Fitness</th>\n",
       "      <th>Income</th>\n",
       "      <th>Miles</th>\n",
       "    </tr>\n",
       "  </thead>\n",
       "  <tbody>\n",
       "    <tr>\n",
       "      <th>0</th>\n",
       "      <td>KP281</td>\n",
       "      <td>18</td>\n",
       "      <td>Male</td>\n",
       "      <td>14</td>\n",
       "      <td>Single</td>\n",
       "      <td>3</td>\n",
       "      <td>4</td>\n",
       "      <td>29562</td>\n",
       "      <td>112</td>\n",
       "    </tr>\n",
       "    <tr>\n",
       "      <th>1</th>\n",
       "      <td>KP281</td>\n",
       "      <td>19</td>\n",
       "      <td>Male</td>\n",
       "      <td>15</td>\n",
       "      <td>Single</td>\n",
       "      <td>2</td>\n",
       "      <td>3</td>\n",
       "      <td>31836</td>\n",
       "      <td>75</td>\n",
       "    </tr>\n",
       "    <tr>\n",
       "      <th>2</th>\n",
       "      <td>KP281</td>\n",
       "      <td>19</td>\n",
       "      <td>Female</td>\n",
       "      <td>14</td>\n",
       "      <td>Partnered</td>\n",
       "      <td>4</td>\n",
       "      <td>3</td>\n",
       "      <td>30699</td>\n",
       "      <td>66</td>\n",
       "    </tr>\n",
       "    <tr>\n",
       "      <th>3</th>\n",
       "      <td>KP281</td>\n",
       "      <td>19</td>\n",
       "      <td>Male</td>\n",
       "      <td>12</td>\n",
       "      <td>Single</td>\n",
       "      <td>3</td>\n",
       "      <td>3</td>\n",
       "      <td>32973</td>\n",
       "      <td>85</td>\n",
       "    </tr>\n",
       "    <tr>\n",
       "      <th>4</th>\n",
       "      <td>KP281</td>\n",
       "      <td>20</td>\n",
       "      <td>Male</td>\n",
       "      <td>13</td>\n",
       "      <td>Partnered</td>\n",
       "      <td>4</td>\n",
       "      <td>2</td>\n",
       "      <td>35247</td>\n",
       "      <td>47</td>\n",
       "    </tr>\n",
       "  </tbody>\n",
       "</table>\n",
       "</div>"
      ],
      "text/plain": [
       "  Product  Age  Gender  Education MaritalStatus  Usage  Fitness  Income  Miles\n",
       "0   KP281   18    Male         14        Single      3        4   29562    112\n",
       "1   KP281   19    Male         15        Single      2        3   31836     75\n",
       "2   KP281   19  Female         14     Partnered      4        3   30699     66\n",
       "3   KP281   19    Male         12        Single      3        3   32973     85\n",
       "4   KP281   20    Male         13     Partnered      4        2   35247     47"
      ]
     },
     "execution_count": 72,
     "metadata": {},
     "output_type": "execute_result"
    }
   ],
   "source": [
    "df_aerofit=pd.read_csv(\"D:\\SCALER_CLASSES\\HYPOTHESEIS TESTING(Mod-7)\\Dataset\\\\aerofit.csv\")\n",
    "df_aerofit.head()"
   ]
  },
  {
   "cell_type": "code",
   "execution_count": 73,
   "id": "4be1879e",
   "metadata": {},
   "outputs": [
    {
     "data": {
      "text/plain": [
       "array(['Male', 'Female'], dtype=object)"
      ]
     },
     "execution_count": 73,
     "metadata": {},
     "output_type": "execute_result"
    }
   ],
   "source": [
    "df_aerofit['Gender'].unique()"
   ]
  },
  {
   "cell_type": "code",
   "execution_count": 74,
   "id": "7abb5701",
   "metadata": {},
   "outputs": [
    {
     "data": {
      "text/plain": [
       "array(['KP281', 'KP481', 'KP781'], dtype=object)"
      ]
     },
     "execution_count": 74,
     "metadata": {},
     "output_type": "execute_result"
    }
   ],
   "source": [
    "df_aerofit['Product'].unique()"
   ]
  },
  {
   "cell_type": "code",
   "execution_count": 75,
   "id": "af8c5dfa",
   "metadata": {},
   "outputs": [
    {
     "data": {
      "image/png": "[encoded data removed]",
      "text/plain": [
       "<Figure size 640x480 with 1 Axes>"
      ]
     },
     "metadata": {},
     "output_type": "display_data"
    }
   ],
   "source": [
    "sns.boxplot(x='Product',y='Income',data=df_aerofit)\n",
    "plt.show()"
   ]
  },
  {
   "cell_type": "code",
   "execution_count": 76,
   "id": "fe513e08",
   "metadata": {},
   "outputs": [],
   "source": [
    "df_aerofit['random_group']=np.random.choice(['g1','g2','g3'],size=len(df_aerofit))"
   ]
  },
  {
   "cell_type": "code",
   "execution_count": 77,
   "id": "ffa3541d",
   "metadata": {},
   "outputs": [
    {
     "data": {
      "text/html": [
       "<div>\n",
       "<style scoped>\n",
       "    .dataframe tbody tr th:only-of-type {\n",
       "        vertical-align: middle;\n",
       "    }\n",
       "\n",
       "    .dataframe tbody tr th {\n",
       "        vertical-align: top;\n",
       "    }\n",
       "\n",
       "    .dataframe thead th {\n",
       "        text-align: right;\n",
       "    }\n",
       "</style>\n",
       "<table border=\"1\" class=\"dataframe\">\n",
       "  <thead>\n",
       "    <tr style=\"text-align: right;\">\n",
       "      <th></th>\n",
       "      <th>Product</th>\n",
       "      <th>Age</th>\n",
       "      <th>Gender</th>\n",
       "      <th>Education</th>\n",
       "      <th>MaritalStatus</th>\n",
       "      <th>Usage</th>\n",
       "      <th>Fitness</th>\n",
       "      <th>Income</th>\n",
       "      <th>Miles</th>\n",
       "      <th>random_group</th>\n",
       "    </tr>\n",
       "  </thead>\n",
       "  <tbody>\n",
       "    <tr>\n",
       "      <th>0</th>\n",
       "      <td>KP281</td>\n",
       "      <td>18</td>\n",
       "      <td>Male</td>\n",
       "      <td>14</td>\n",
       "      <td>Single</td>\n",
       "      <td>3</td>\n",
       "      <td>4</td>\n",
       "      <td>29562</td>\n",
       "      <td>112</td>\n",
       "      <td>g1</td>\n",
       "    </tr>\n",
       "    <tr>\n",
       "      <th>1</th>\n",
       "      <td>KP281</td>\n",
       "      <td>19</td>\n",
       "      <td>Male</td>\n",
       "      <td>15</td>\n",
       "      <td>Single</td>\n",
       "      <td>2</td>\n",
       "      <td>3</td>\n",
       "      <td>31836</td>\n",
       "      <td>75</td>\n",
       "      <td>g3</td>\n",
       "    </tr>\n",
       "    <tr>\n",
       "      <th>2</th>\n",
       "      <td>KP281</td>\n",
       "      <td>19</td>\n",
       "      <td>Female</td>\n",
       "      <td>14</td>\n",
       "      <td>Partnered</td>\n",
       "      <td>4</td>\n",
       "      <td>3</td>\n",
       "      <td>30699</td>\n",
       "      <td>66</td>\n",
       "      <td>g2</td>\n",
       "    </tr>\n",
       "    <tr>\n",
       "      <th>3</th>\n",
       "      <td>KP281</td>\n",
       "      <td>19</td>\n",
       "      <td>Male</td>\n",
       "      <td>12</td>\n",
       "      <td>Single</td>\n",
       "      <td>3</td>\n",
       "      <td>3</td>\n",
       "      <td>32973</td>\n",
       "      <td>85</td>\n",
       "      <td>g2</td>\n",
       "    </tr>\n",
       "    <tr>\n",
       "      <th>4</th>\n",
       "      <td>KP281</td>\n",
       "      <td>20</td>\n",
       "      <td>Male</td>\n",
       "      <td>13</td>\n",
       "      <td>Partnered</td>\n",
       "      <td>4</td>\n",
       "      <td>2</td>\n",
       "      <td>35247</td>\n",
       "      <td>47</td>\n",
       "      <td>g3</td>\n",
       "    </tr>\n",
       "  </tbody>\n",
       "</table>\n",
       "</div>"
      ],
      "text/plain": [
       "  Product  Age  Gender  Education MaritalStatus  Usage  Fitness  Income  \\\n",
       "0   KP281   18    Male         14        Single      3        4   29562   \n",
       "1   KP281   19    Male         15        Single      2        3   31836   \n",
       "2   KP281   19  Female         14     Partnered      4        3   30699   \n",
       "3   KP281   19    Male         12        Single      3        3   32973   \n",
       "4   KP281   20    Male         13     Partnered      4        2   35247   \n",
       "\n",
       "   Miles random_group  \n",
       "0    112           g1  \n",
       "1     75           g3  \n",
       "2     66           g2  \n",
       "3     85           g2  \n",
       "4     47           g3  "
      ]
     },
     "execution_count": 77,
     "metadata": {},
     "output_type": "execute_result"
    }
   ],
   "source": [
    "df_aerofit.head()"
   ]
  },
  {
   "cell_type": "code",
   "execution_count": 78,
   "id": "1c258f2e",
   "metadata": {},
   "outputs": [
    {
     "data": {
      "image/png": "[encoded data removed]",
      "text/plain": [
       "<Figure size 640x480 with 1 Axes>"
      ]
     },
     "metadata": {},
     "output_type": "display_data"
    }
   ],
   "source": [
    "sns.boxplot(x='random_group',y='Income',data=df_aerofit)\n",
    "plt.show()"
   ]
  },
  {
   "cell_type": "code",
   "execution_count": 79,
   "id": "096a3c2d",
   "metadata": {},
   "outputs": [],
   "source": [
    "income_g1=df_aerofit[df_aerofit['random_group']=='g1']['Income']\n",
    "income_g2=df_aerofit[df_aerofit['random_group']=='g2']['Income']\n",
    "income_g3=df_aerofit[df_aerofit['random_group']=='g3']['Income']"
   ]
  },
  {
   "cell_type": "code",
   "execution_count": 80,
   "id": "5ae9bf67",
   "metadata": {},
   "outputs": [
    {
     "data": {
      "text/plain": [
       "55944.34375"
      ]
     },
     "execution_count": 80,
     "metadata": {},
     "output_type": "execute_result"
    }
   ],
   "source": [
    "income_g1.mean()"
   ]
  },
  {
   "cell_type": "code",
   "execution_count": 81,
   "id": "d0362ee2",
   "metadata": {},
   "outputs": [
    {
     "data": {
      "text/plain": [
       "52733.86538461538"
      ]
     },
     "execution_count": 81,
     "metadata": {},
     "output_type": "execute_result"
    }
   ],
   "source": [
    "income_g2.mean()"
   ]
  },
  {
   "cell_type": "code",
   "execution_count": 82,
   "id": "3e19748a",
   "metadata": {},
   "outputs": [
    {
     "data": {
      "text/plain": [
       "52295.703125"
      ]
     },
     "execution_count": 82,
     "metadata": {},
     "output_type": "execute_result"
    }
   ],
   "source": [
    "income_g3.mean()"
   ]
  },
  {
   "cell_type": "code",
   "execution_count": 83,
   "id": "21af37a2",
   "metadata": {},
   "outputs": [],
   "source": [
    "#H0: All groups have same mean\n",
    "#Ha: One or more groups have different mean"
   ]
  },
  {
   "cell_type": "code",
   "execution_count": 84,
   "id": "1fd9b789",
   "metadata": {},
   "outputs": [],
   "source": [
    "f_stat,p_val=f_oneway(income_g1,income_g2,income_g3)"
   ]
  },
  {
   "cell_type": "code",
   "execution_count": 85,
   "id": "f80e1788",
   "metadata": {},
   "outputs": [
    {
     "name": "stdout",
     "output_type": "stream",
     "text": [
      "0.9112171366670702 0.4039120852153316\n"
     ]
    }
   ],
   "source": [
    "print(f_stat,p_val)"
   ]
  },
  {
   "cell_type": "code",
   "execution_count": 86,
   "id": "aceea450",
   "metadata": {},
   "outputs": [
    {
     "name": "stdout",
     "output_type": "stream",
     "text": [
      "Fail to reject\n"
     ]
    }
   ],
   "source": [
    "if p_val<0.05:\n",
    "    print(\"Reject H0\")\n",
    "else:\n",
    "    print(\"Fail to reject\")"
   ]
  },
  {
   "cell_type": "code",
   "execution_count": 87,
   "id": "8d1c1275",
   "metadata": {},
   "outputs": [],
   "source": [
    "income_kp281 = df_aerofit[df_aerofit[\"Product\"] == \"KP281\"][\"Income\"]\n",
    "income_kp481 = df_aerofit[df_aerofit[\"Product\"] == \"KP481\"][\"Income\"]\n",
    "income_kp781 = df_aerofit[df_aerofit[\"Product\"] == \"KP781\"][\"Income\"]"
   ]
  },
  {
   "cell_type": "code",
   "execution_count": 88,
   "id": "3aacf984",
   "metadata": {},
   "outputs": [
    {
     "data": {
      "text/plain": [
       "46418.025"
      ]
     },
     "execution_count": 88,
     "metadata": {},
     "output_type": "execute_result"
    }
   ],
   "source": [
    "income_kp281.mean()"
   ]
  },
  {
   "cell_type": "code",
   "execution_count": 89,
   "id": "e9ccdf0e",
   "metadata": {},
   "outputs": [
    {
     "data": {
      "text/plain": [
       "48973.65"
      ]
     },
     "execution_count": 89,
     "metadata": {},
     "output_type": "execute_result"
    }
   ],
   "source": [
    "income_kp481.mean()"
   ]
  },
  {
   "cell_type": "code",
   "execution_count": 90,
   "id": "1b7cd30c",
   "metadata": {},
   "outputs": [
    {
     "data": {
      "text/plain": [
       "75441.575"
      ]
     },
     "execution_count": 90,
     "metadata": {},
     "output_type": "execute_result"
    }
   ],
   "source": [
    "income_kp781.mean()"
   ]
  },
  {
   "cell_type": "code",
   "execution_count": 91,
   "id": "145a4312",
   "metadata": {},
   "outputs": [
    {
     "name": "stdout",
     "output_type": "stream",
     "text": [
      "Reject H0\n"
     ]
    }
   ],
   "source": [
    "#H0: All groups have same mean\n",
    "#Ha: One or more group have different mean\n",
    "\n",
    "f_stats, p_value = f_oneway(income_kp281, income_kp481,income_kp781)\n",
    "\n",
    "if p_value < 0.05:\n",
    "  print(\"Reject H0\")\n",
    "else:\n",
    "  print(\"Fail to reject H0\")\n",
    "  print(\"All groups have same mean\")"
   ]
  },
  {
   "cell_type": "code",
   "execution_count": 92,
   "id": "e42e13f7",
   "metadata": {},
   "outputs": [
    {
     "name": "stdout",
     "output_type": "stream",
     "text": [
      "0.4039120852153316 0.9112171366670702\n",
      "Fail to reject H0\n"
     ]
    }
   ],
   "source": [
    "#Doing this just for reference\n",
    "\n",
    "f_stat,p_val=f_oneway(income_g1,income_g2,income_g3)\n",
    "\n",
    "print(p_val,f_stat)\n",
    "\n",
    "if p_val<0.05:\n",
    "    print(\"Reject H0\")\n",
    "else:\n",
    "    print(\"Fail to reject H0\")"
   ]
  },
  {
   "cell_type": "code",
   "execution_count": 93,
   "id": "edd0bce8",
   "metadata": {},
   "outputs": [
    {
     "name": "stdout",
     "output_type": "stream",
     "text": [
      "0.3863006214332164\n",
      "Fail to reject H0\n",
      "All groups have same mean\n"
     ]
    }
   ],
   "source": [
    "k_stat, p_value =  kruskal(income_g1,income_g2, income_g3)\n",
    "print(p_value)\n",
    "\n",
    "if p_value < 0.05:\n",
    "  print(\"Reject H0\")\n",
    "else:\n",
    "  print(\"Fail to reject H0\")\n",
    "  print(\"All groups have same mean\")"
   ]
  },
  {
   "cell_type": "code",
   "execution_count": 94,
   "id": "62e825c7",
   "metadata": {},
   "outputs": [],
   "source": [
    "df_hw=pd.read_csv(\"D:\\SCALER_CLASSES\\HYPOTHESEIS TESTING(Mod-7)\\Dataset\\\\weight-height.csv\")\n",
    "df_wt=pd.read_csv(\"D:\\SCALER_CLASSES\\HYPOTHESEIS TESTING(Mod-7)\\Dataset\\\\waiting_time.csv\")"
   ]
  },
  {
   "cell_type": "code",
   "execution_count": 95,
   "id": "874d1ff0",
   "metadata": {},
   "outputs": [
    {
     "data": {
      "text/html": [
       "<div>\n",
       "<style scoped>\n",
       "    .dataframe tbody tr th:only-of-type {\n",
       "        vertical-align: middle;\n",
       "    }\n",
       "\n",
       "    .dataframe tbody tr th {\n",
       "        vertical-align: top;\n",
       "    }\n",
       "\n",
       "    .dataframe thead th {\n",
       "        text-align: right;\n",
       "    }\n",
       "</style>\n",
       "<table border=\"1\" class=\"dataframe\">\n",
       "  <thead>\n",
       "    <tr style=\"text-align: right;\">\n",
       "      <th></th>\n",
       "      <th>time</th>\n",
       "    </tr>\n",
       "  </thead>\n",
       "  <tbody>\n",
       "    <tr>\n",
       "      <th>0</th>\n",
       "      <td>184.003075</td>\n",
       "    </tr>\n",
       "    <tr>\n",
       "      <th>1</th>\n",
       "      <td>36.721521</td>\n",
       "    </tr>\n",
       "    <tr>\n",
       "      <th>2</th>\n",
       "      <td>29.970417</td>\n",
       "    </tr>\n",
       "    <tr>\n",
       "      <th>3</th>\n",
       "      <td>75.640285</td>\n",
       "    </tr>\n",
       "    <tr>\n",
       "      <th>4</th>\n",
       "      <td>61.489439</td>\n",
       "    </tr>\n",
       "  </tbody>\n",
       "</table>\n",
       "</div>"
      ],
      "text/plain": [
       "         time\n",
       "0  184.003075\n",
       "1   36.721521\n",
       "2   29.970417\n",
       "3   75.640285\n",
       "4   61.489439"
      ]
     },
     "execution_count": 95,
     "metadata": {},
     "output_type": "execute_result"
    }
   ],
   "source": [
    "df_wt.head()"
   ]
  },
  {
   "cell_type": "code",
   "execution_count": 96,
   "id": "4be86e8b",
   "metadata": {},
   "outputs": [
    {
     "data": {
      "text/html": [
       "<div>\n",
       "<style scoped>\n",
       "    .dataframe tbody tr th:only-of-type {\n",
       "        vertical-align: middle;\n",
       "    }\n",
       "\n",
       "    .dataframe tbody tr th {\n",
       "        vertical-align: top;\n",
       "    }\n",
       "\n",
       "    .dataframe thead th {\n",
       "        text-align: right;\n",
       "    }\n",
       "</style>\n",
       "<table border=\"1\" class=\"dataframe\">\n",
       "  <thead>\n",
       "    <tr style=\"text-align: right;\">\n",
       "      <th></th>\n",
       "      <th>Gender</th>\n",
       "      <th>Height</th>\n",
       "      <th>Weight</th>\n",
       "    </tr>\n",
       "  </thead>\n",
       "  <tbody>\n",
       "    <tr>\n",
       "      <th>0</th>\n",
       "      <td>Male</td>\n",
       "      <td>73.847017</td>\n",
       "      <td>241.893563</td>\n",
       "    </tr>\n",
       "    <tr>\n",
       "      <th>1</th>\n",
       "      <td>Male</td>\n",
       "      <td>68.781904</td>\n",
       "      <td>162.310473</td>\n",
       "    </tr>\n",
       "    <tr>\n",
       "      <th>2</th>\n",
       "      <td>Male</td>\n",
       "      <td>74.110105</td>\n",
       "      <td>212.740856</td>\n",
       "    </tr>\n",
       "    <tr>\n",
       "      <th>3</th>\n",
       "      <td>Male</td>\n",
       "      <td>71.730978</td>\n",
       "      <td>220.042470</td>\n",
       "    </tr>\n",
       "    <tr>\n",
       "      <th>4</th>\n",
       "      <td>Male</td>\n",
       "      <td>69.881796</td>\n",
       "      <td>206.349801</td>\n",
       "    </tr>\n",
       "  </tbody>\n",
       "</table>\n",
       "</div>"
      ],
      "text/plain": [
       "  Gender     Height      Weight\n",
       "0   Male  73.847017  241.893563\n",
       "1   Male  68.781904  162.310473\n",
       "2   Male  74.110105  212.740856\n",
       "3   Male  71.730978  220.042470\n",
       "4   Male  69.881796  206.349801"
      ]
     },
     "execution_count": 96,
     "metadata": {},
     "output_type": "execute_result"
    }
   ],
   "source": [
    "df_hw.head()"
   ]
  },
  {
   "cell_type": "code",
   "execution_count": 97,
   "id": "f62c3828",
   "metadata": {},
   "outputs": [],
   "source": [
    "# Assumptions:\n",
    "# 1. Gaussian\n",
    "# 2. Independent\n",
    "# 3. Equal Variance"
   ]
  },
  {
   "cell_type": "raw",
   "id": "5f934b38",
   "metadata": {},
   "source": [
    "Checking of Gaussian or not"
   ]
  },
  {
   "cell_type": "code",
   "execution_count": 98,
   "id": "3263e1ae",
   "metadata": {},
   "outputs": [
    {
     "data": {
      "image/png": "[encoded data removed]",
      "text/plain": [
       "<Figure size 640x480 with 1 Axes>"
      ]
     },
     "metadata": {},
     "output_type": "display_data"
    }
   ],
   "source": [
    "height=df_hw['Height']\n",
    "sns.histplot(height)\n",
    "plt.show()"
   ]
  },
  {
   "cell_type": "code",
   "execution_count": 99,
   "id": "24014ad8",
   "metadata": {},
   "outputs": [
    {
     "data": {
      "image/png": "[encoded data removed]",
      "text/plain": [
       "<Figure size 640x480 with 1 Axes>"
      ]
     },
     "metadata": {},
     "output_type": "display_data"
    }
   ],
   "source": [
    "qqplot(height,line='s')\n",
    "plt.show()"
   ]
  },
  {
   "cell_type": "code",
   "execution_count": 100,
   "id": "a0c006dd",
   "metadata": {},
   "outputs": [],
   "source": [
    "weight=df_wt['time']"
   ]
  },
  {
   "cell_type": "code",
   "execution_count": 101,
   "id": "bde0322b",
   "metadata": {},
   "outputs": [
    {
     "data": {
      "image/png": "[encoded data removed]",
      "text/plain": [
       "<Figure size 640x480 with 1 Axes>"
      ]
     },
     "metadata": {},
     "output_type": "display_data"
    }
   ],
   "source": [
    "sns.histplot(weight)\n",
    "plt.show()"
   ]
  },
  {
   "cell_type": "code",
   "execution_count": 102,
   "id": "ae17c5de",
   "metadata": {},
   "outputs": [
    {
     "data": {
      "image/png": "[encoded data removed]",
      "text/plain": [
       "<Figure size 640x480 with 1 Axes>"
      ]
     },
     "metadata": {},
     "output_type": "display_data"
    }
   ],
   "source": [
    "qqplot(weight,line='s')\n",
    "plt.show()"
   ]
  },
  {
   "cell_type": "markdown",
   "id": "12660897",
   "metadata": {},
   "source": [
    "Shapiro test for Gaussian\n",
    "\n",
    "It Take a few samples of data (50 to 200). This test may not work if data is too large\n",
    "\n"
   ]
  },
  {
   "cell_type": "code",
   "execution_count": 103,
   "id": "86ecc3df",
   "metadata": {},
   "outputs": [],
   "source": [
    "height_subset=height.sample(100)"
   ]
  },
  {
   "cell_type": "code",
   "execution_count": 104,
   "id": "cb982b98",
   "metadata": {},
   "outputs": [
    {
     "name": "stdout",
     "output_type": "stream",
     "text": [
      "Fail to reject H0\n",
      "Follows Gaussian\n"
     ]
    }
   ],
   "source": [
    "#H0: Data is Gaussian\n",
    "#Ha: Data is not Guassian\n",
    "\n",
    "\n",
    "test_stat, p_value = shapiro(height_subset)\n",
    "\n",
    "if p_value < 0.05:\n",
    "  print(\"Reject H0\")\n",
    "  print(\"Not Gaussian\")\n",
    "else:\n",
    "  print(\"Fail to reject H0\")\n",
    "  print(\"Follows Gaussian\")"
   ]
  },
  {
   "cell_type": "code",
   "execution_count": 105,
   "id": "40e6b9ee",
   "metadata": {},
   "outputs": [
    {
     "data": {
      "text/html": [
       "<div>\n",
       "<style scoped>\n",
       "    .dataframe tbody tr th:only-of-type {\n",
       "        vertical-align: middle;\n",
       "    }\n",
       "\n",
       "    .dataframe tbody tr th {\n",
       "        vertical-align: top;\n",
       "    }\n",
       "\n",
       "    .dataframe thead th {\n",
       "        text-align: right;\n",
       "    }\n",
       "</style>\n",
       "<table border=\"1\" class=\"dataframe\">\n",
       "  <thead>\n",
       "    <tr style=\"text-align: right;\">\n",
       "      <th></th>\n",
       "      <th>Gender</th>\n",
       "      <th>Height</th>\n",
       "      <th>Weight</th>\n",
       "    </tr>\n",
       "  </thead>\n",
       "  <tbody>\n",
       "    <tr>\n",
       "      <th>0</th>\n",
       "      <td>Male</td>\n",
       "      <td>73.847017</td>\n",
       "      <td>241.893563</td>\n",
       "    </tr>\n",
       "    <tr>\n",
       "      <th>1</th>\n",
       "      <td>Male</td>\n",
       "      <td>68.781904</td>\n",
       "      <td>162.310473</td>\n",
       "    </tr>\n",
       "    <tr>\n",
       "      <th>2</th>\n",
       "      <td>Male</td>\n",
       "      <td>74.110105</td>\n",
       "      <td>212.740856</td>\n",
       "    </tr>\n",
       "    <tr>\n",
       "      <th>3</th>\n",
       "      <td>Male</td>\n",
       "      <td>71.730978</td>\n",
       "      <td>220.042470</td>\n",
       "    </tr>\n",
       "    <tr>\n",
       "      <th>4</th>\n",
       "      <td>Male</td>\n",
       "      <td>69.881796</td>\n",
       "      <td>206.349801</td>\n",
       "    </tr>\n",
       "  </tbody>\n",
       "</table>\n",
       "</div>"
      ],
      "text/plain": [
       "  Gender     Height      Weight\n",
       "0   Male  73.847017  241.893563\n",
       "1   Male  68.781904  162.310473\n",
       "2   Male  74.110105  212.740856\n",
       "3   Male  71.730978  220.042470\n",
       "4   Male  69.881796  206.349801"
      ]
     },
     "execution_count": 105,
     "metadata": {},
     "output_type": "execute_result"
    }
   ],
   "source": [
    "df_hw.head()"
   ]
  },
  {
   "cell_type": "code",
   "execution_count": 106,
   "id": "baabbf6b",
   "metadata": {},
   "outputs": [
    {
     "data": {
      "image/png": "[encoded data removed]",
      "text/plain": [
       "<Figure size 640x480 with 1 Axes>"
      ]
     },
     "metadata": {},
     "output_type": "display_data"
    }
   ],
   "source": [
    "sns.histplot(data=df_hw,x='Height',hue='Gender')\n",
    "plt.show()"
   ]
  },
  {
   "cell_type": "code",
   "execution_count": 107,
   "id": "f3f617ce",
   "metadata": {},
   "outputs": [],
   "source": [
    "height_men = df_hw[df_hw[\"Gender\"]==\"Male\"][\"Height\"]\n",
    "height_women = df_hw[df_hw[\"Gender\"]==\"Female\"][\"Height\"]"
   ]
  },
  {
   "cell_type": "code",
   "execution_count": 108,
   "id": "d655cc5a",
   "metadata": {},
   "outputs": [
    {
     "data": {
      "text/plain": [
       "69.02634590621741"
      ]
     },
     "execution_count": 108,
     "metadata": {},
     "output_type": "execute_result"
    }
   ],
   "source": [
    "height_men.mean()"
   ]
  },
  {
   "cell_type": "code",
   "execution_count": 109,
   "id": "21c00e8c",
   "metadata": {},
   "outputs": [
    {
     "data": {
      "text/plain": [
       "63.70877360342507"
      ]
     },
     "execution_count": 109,
     "metadata": {},
     "output_type": "execute_result"
    }
   ],
   "source": [
    "height_women.mean()"
   ]
  },
  {
   "cell_type": "code",
   "execution_count": 110,
   "id": "a0d8ec5f",
   "metadata": {},
   "outputs": [
    {
     "data": {
      "text/plain": [
       "8.19884325252049"
      ]
     },
     "execution_count": 110,
     "metadata": {},
     "output_type": "execute_result"
    }
   ],
   "source": [
    "height_men.var()"
   ]
  },
  {
   "cell_type": "code",
   "execution_count": 111,
   "id": "4ba020e1",
   "metadata": {},
   "outputs": [
    {
     "data": {
      "text/plain": [
       "7.269947493670132"
      ]
     },
     "execution_count": 111,
     "metadata": {},
     "output_type": "execute_result"
    }
   ],
   "source": [
    "height_women.var()"
   ]
  },
  {
   "cell_type": "code",
   "execution_count": 112,
   "id": "3da99540",
   "metadata": {},
   "outputs": [],
   "source": [
    "#To establish whether this difference we see in the variance is by chance or significant, we have to use Levene test"
   ]
  },
  {
   "cell_type": "code",
   "execution_count": 113,
   "id": "90a40294",
   "metadata": {},
   "outputs": [
    {
     "name": "stdout",
     "output_type": "stream",
     "text": [
      "Reject H0\n",
      "Variance are not equal\n"
     ]
    }
   ],
   "source": [
    "#H0: Variances are equal\n",
    "#Ha: Variances are not equal\n",
    "\n",
    "levene_stat, p_value = levene(height_men, height_women)\n",
    "\n",
    "if p_value < 0.05:\n",
    "  print(\"Reject H0\")\n",
    "  print(\"Variance are not equal\")\n",
    "else:\n",
    "  print(\"Fail to reject H0\")\n",
    "  print(\"Variance are equal\")"
   ]
  },
  {
   "cell_type": "markdown",
   "id": "d9ffa8c0",
   "metadata": {},
   "source": [
    "SUMMERY\n",
    "\n",
    "    ttest --> Numeriical vs Cat --> 2 categories \n",
    "    \n",
    "    Anova -> Numerical vs Cat --> more than 2 categories \n",
    "\n",
    "Assumtions: \n",
    "\n",
    "    1 - gaussian: qqplot, shapiro \n",
    "    \n",
    "    2- equal variance --> levene \n",
    "    \n",
    "    3- independence If any of the assumtions of Anova fails, we use Kruskal wallis test"
   ]
  },
  {
   "cell_type": "markdown",
   "id": "593d8d50",
   "metadata": {},
   "source": [
    "# Co-Relation Test"
   ]
  },
  {
   "cell_type": "markdown",
   "id": "535e4bc5",
   "metadata": {},
   "source": [
    "Q1.Given correlation coefficient between X and Y as 0.7 and covariance between the same as 73, what is variance of Y if variance of X is 25?\n",
    "\n",
    "coefficent=Cov_x_y/sigma_x*sigma_y\n",
    "Cov_x_y=73"
   ]
  },
  {
   "cell_type": "code",
   "execution_count": 114,
   "id": "8a7a0053",
   "metadata": {},
   "outputs": [
    {
     "name": "stdout",
     "output_type": "stream",
     "text": [
      "sigma_y:  20.857142857142858\n",
      "var_y:  435.0204081632653\n"
     ]
    }
   ],
   "source": [
    "Cov_x_y=73\n",
    "sigma_x=5\n",
    "coefficent=0.7\n",
    "\n",
    "#we know that\n",
    "\n",
    "#coefficent=Cov_x_y/sigma_x*sigma_y\n",
    "\n",
    "sigma_y=Cov_x_y/(sigma_x*coefficent)\n",
    "\n",
    "print('sigma_y: ',sigma_y)\n",
    "\n",
    "var_y=sigma_y**2\n",
    "\n",
    "print('var_y: ',var_y)\n",
    "\n"
   ]
  },
  {
   "cell_type": "markdown",
   "id": "7819965f",
   "metadata": {},
   "source": [
    "Q2.The Zumba trainer claims to the customers, that their new dance routine helps to reduce more weight.\n",
    "\n",
    "Weight of 8 people were recorded before and after following the new Zumba training for a month:\n",
    "\n",
    "wt_before = [85, 74, 63.5, 69.4, 71.6, 65,90,78]\n",
    "\n",
    "wt_after = [82, 71, 64, 65.2, 67.8, 64.7,95,77]\n",
    "\n",
    "Test the trainer's claim with 90% confidence. Further, What would be the value of test statistic for this?"
   ]
  },
  {
   "cell_type": "code",
   "execution_count": 115,
   "id": "3410cbfe",
   "metadata": {},
   "outputs": [
    {
     "name": "stdout",
     "output_type": "stream",
     "text": [
      "Test Statistic: 1.1421853793555032\n",
      "P value: 0.8545319149867361\n",
      "Fail to reject H0 ; Customers did not reduce their weight after 1 month of new Zumba routine\n"
     ]
    }
   ],
   "source": [
    "#H0: Customers did not reduce their weight after 1 month of new Zumba routine μBefore=μAfter\n",
    " \n",
    "#H1: Customers have reduced their weight after 1 month of new Zumba routine μBefore<μAfter \n",
    "\n",
    "#The nature of data here is in the form of “Before” and “After” . Hence we will use Paired T-test using ttest_rel()\n",
    "\n",
    "wt_before = [85, 74, 63.5, 69.4, 71.6, 65,90,78]\n",
    "wt_after = [82, 71, 64, 65.2, 67.8, 64.7,95,77]\n",
    "\n",
    "alpha = 0.10 # Significance level\n",
    "\n",
    "t_stat, pvalue = ttest_rel(wt_before, wt_after, alternative=\"less\" )\n",
    "print('Test Statistic:', t_stat)\n",
    "print('P value:', pvalue)\n",
    "\n",
    "if pvalue < alpha:\n",
    "  print('Reject H0 ; Customers have reduced their weight after 1 month of new Zumba routine')\n",
    "else:\n",
    "  print('Fail to reject H0 ; Customers did not reduce their weight after 1 month of new Zumba routine')"
   ]
  },
  {
   "cell_type": "markdown",
   "id": "764716fd",
   "metadata": {},
   "source": [
    "Q3.You are appointed as a Data Analyst for a training program deployed by the Government of India.\n",
    "\n",
    "The participants’ skills were tested before and after the training using some metrics on a scale of 10.\n",
    "\n",
    "before = [2.45, 0.69, 1.80, 2.80, 0.07, 1.67, 2.93, 0.47, 1.45, 1.34]\n",
    "\n",
    "after = [7.71, 2.17, 5.65, 8.79, 0.23, 5.23, 9.19, 1.49, 4.56, 4.20]\n",
    "\n",
    "Conduct paired t-test to assess the impact of the training program, and then answer the below questions accordingly.\n",
    "\n",
    "Note: Perform the paired t-test at alpha = 5%."
   ]
  },
  {
   "cell_type": "code",
   "execution_count": 116,
   "id": "3b469c09",
   "metadata": {},
   "outputs": [
    {
     "name": "stdout",
     "output_type": "stream",
     "text": [
      "before mean: 1.567\n",
      "after mean: 4.922000000000001\n",
      " T statistic =  -5.11\n",
      " p-value =  0.0003\n",
      "Since, p-value < alpha, we reject the null hypothesis. Positive effect / improvement in skills after training\n"
     ]
    }
   ],
   "source": [
    "#H0: No improvement in skills after training, i.e. μ1=μ2\n",
    "\n",
    "#Ha: Positive effect / improvement in skills after training, i.e. μ1<μ2\n",
    "\n",
    "before= [2.45, 0.69, 1.80, 2.80, 0.07, 1.67, 2.93, 0.47, 1.45, 1.34]\n",
    "after = [7.71, 2.17, 5.65, 8.79, 0.23, 5.23, 9.19, 1.49, 4.56, 4.20]\n",
    "\n",
    "before_mean = np.mean(np.array(before))\n",
    "after_mean = np.mean(np.array(after))\n",
    "\n",
    "print(\"before mean:\",before_mean)\n",
    "print(\"after mean:\",after_mean)\n",
    "\n",
    "t_obs, p =ttest_rel(before, after, alternative=\"less\")\n",
    "\n",
    "print(\" T statistic = \", round(t_obs,2))\n",
    "print(\" p-value = \", round(p,4))\n",
    "\n",
    "if(p < 0.05):\n",
    "  print(\"Since, p-value < alpha, we reject the null hypothesis. Positive effect / improvement in skills after training\")\n",
    "else:\n",
    "  print(\"Since, p-value > alpha, we fail to reject the null hypothesis. No effect / improvement in skills after training\")"
   ]
  },
  {
   "cell_type": "markdown",
   "id": "0ad82e5f",
   "metadata": {},
   "source": [
    "# ClassWork/Notes of Co-Relation Test"
   ]
  },
  {
   "cell_type": "markdown",
   "id": "baa9dee7",
   "metadata": {},
   "source": [
    "1.Num vs Cat-\n",
    "\n",
    "    1.T-tets(2cat)\n",
    "    \n",
    "    2.Anova(more than 2cat)\n",
    "\n",
    "Cat vs Cat-\n",
    "\n",
    "    1.Chi2 Test\n",
    "\n",
    "Num vs Num- \n",
    "\n",
    "    1.Co-relation Test"
   ]
  },
  {
   "cell_type": "markdown",
   "id": "0ca3e054",
   "metadata": {},
   "source": [
    "2.Formula of co-relation=coefficent=Cov(xy)/(sigma(x)*sigma(y))"
   ]
  },
  {
   "cell_type": "markdown",
   "id": "3e929215",
   "metadata": {},
   "source": [
    "3.When we have to do operation with two numerical data, then in that case we have to use Co-Relation Test."
   ]
  },
  {
   "cell_type": "code",
   "execution_count": 117,
   "id": "db313963",
   "metadata": {},
   "outputs": [],
   "source": [
    "hw=pd.read_csv(\"D:\\SCALER_CLASSES\\HYPOTHESEIS TESTING(Mod-7)\\Dataset\\\\weight-height.csv\")"
   ]
  },
  {
   "cell_type": "code",
   "execution_count": 118,
   "id": "b49881b8",
   "metadata": {},
   "outputs": [
    {
     "data": {
      "text/html": [
       "<div>\n",
       "<style scoped>\n",
       "    .dataframe tbody tr th:only-of-type {\n",
       "        vertical-align: middle;\n",
       "    }\n",
       "\n",
       "    .dataframe tbody tr th {\n",
       "        vertical-align: top;\n",
       "    }\n",
       "\n",
       "    .dataframe thead th {\n",
       "        text-align: right;\n",
       "    }\n",
       "</style>\n",
       "<table border=\"1\" class=\"dataframe\">\n",
       "  <thead>\n",
       "    <tr style=\"text-align: right;\">\n",
       "      <th></th>\n",
       "      <th>Gender</th>\n",
       "      <th>Height</th>\n",
       "      <th>Weight</th>\n",
       "    </tr>\n",
       "  </thead>\n",
       "  <tbody>\n",
       "    <tr>\n",
       "      <th>0</th>\n",
       "      <td>Male</td>\n",
       "      <td>73.847017</td>\n",
       "      <td>241.893563</td>\n",
       "    </tr>\n",
       "    <tr>\n",
       "      <th>1</th>\n",
       "      <td>Male</td>\n",
       "      <td>68.781904</td>\n",
       "      <td>162.310473</td>\n",
       "    </tr>\n",
       "    <tr>\n",
       "      <th>2</th>\n",
       "      <td>Male</td>\n",
       "      <td>74.110105</td>\n",
       "      <td>212.740856</td>\n",
       "    </tr>\n",
       "    <tr>\n",
       "      <th>3</th>\n",
       "      <td>Male</td>\n",
       "      <td>71.730978</td>\n",
       "      <td>220.042470</td>\n",
       "    </tr>\n",
       "    <tr>\n",
       "      <th>4</th>\n",
       "      <td>Male</td>\n",
       "      <td>69.881796</td>\n",
       "      <td>206.349801</td>\n",
       "    </tr>\n",
       "  </tbody>\n",
       "</table>\n",
       "</div>"
      ],
      "text/plain": [
       "  Gender     Height      Weight\n",
       "0   Male  73.847017  241.893563\n",
       "1   Male  68.781904  162.310473\n",
       "2   Male  74.110105  212.740856\n",
       "3   Male  71.730978  220.042470\n",
       "4   Male  69.881796  206.349801"
      ]
     },
     "execution_count": 118,
     "metadata": {},
     "output_type": "execute_result"
    }
   ],
   "source": [
    "hw.head()"
   ]
  },
  {
   "cell_type": "code",
   "execution_count": 119,
   "id": "99c7477f",
   "metadata": {},
   "outputs": [
    {
     "data": {
      "image/png": "[encoded data removed]",
      "text/plain": [
       "<Figure size 640x480 with 1 Axes>"
      ]
     },
     "metadata": {},
     "output_type": "display_data"
    }
   ],
   "source": [
    "sns.scatterplot(x=\"Height\",y=\"Weight\",data=hw,color='Green')\n",
    "plt.show()"
   ]
  },
  {
   "cell_type": "code",
   "execution_count": 120,
   "id": "ed5ca95b",
   "metadata": {},
   "outputs": [
    {
     "data": {
      "text/html": [
       "<div>\n",
       "<style scoped>\n",
       "    .dataframe tbody tr th:only-of-type {\n",
       "        vertical-align: middle;\n",
       "    }\n",
       "\n",
       "    .dataframe tbody tr th {\n",
       "        vertical-align: top;\n",
       "    }\n",
       "\n",
       "    .dataframe thead th {\n",
       "        text-align: right;\n",
       "    }\n",
       "</style>\n",
       "<table border=\"1\" class=\"dataframe\">\n",
       "  <thead>\n",
       "    <tr style=\"text-align: right;\">\n",
       "      <th></th>\n",
       "      <th>Height</th>\n",
       "      <th>Weight</th>\n",
       "    </tr>\n",
       "  </thead>\n",
       "  <tbody>\n",
       "    <tr>\n",
       "      <th>Height</th>\n",
       "      <td>1.000000</td>\n",
       "      <td>0.924756</td>\n",
       "    </tr>\n",
       "    <tr>\n",
       "      <th>Weight</th>\n",
       "      <td>0.924756</td>\n",
       "      <td>1.000000</td>\n",
       "    </tr>\n",
       "  </tbody>\n",
       "</table>\n",
       "</div>"
      ],
      "text/plain": [
       "          Height    Weight\n",
       "Height  1.000000  0.924756\n",
       "Weight  0.924756  1.000000"
      ]
     },
     "execution_count": 120,
     "metadata": {},
     "output_type": "execute_result"
    }
   ],
   "source": [
    "hw[['Height','Weight']].corr()"
   ]
  },
  {
   "cell_type": "markdown",
   "id": "1a4f7d3f",
   "metadata": {},
   "source": [
    "# Advanced Distributions - 1"
   ]
  },
  {
   "cell_type": "markdown",
   "id": "09a5870d",
   "metadata": {},
   "source": [
    "Q1.If electricity power failures occur according to a poisson distribution with an average of three failures every 20 weeks, calculate the probability that there will not be more than one failure during a week."
   ]
  },
  {
   "cell_type": "code",
   "execution_count": 122,
   "id": "34e6f6aa",
   "metadata": {},
   "outputs": [
    {
     "name": "stdout",
     "output_type": "stream",
     "text": [
      "The probability that there will not be more than one failure during a week: 0.9898141728888165\n"
     ]
    }
   ],
   "source": [
    "mu = 3/20\n",
    "x = 1\n",
    "p1 = poisson.cdf(x,mu)\n",
    "\n",
    "print('The probability that there will not be more than one failure during a week:',p1)"
   ]
  },
  {
   "cell_type": "markdown",
   "id": "0b5f0b11",
   "metadata": {},
   "source": [
    "Q2.An observer counts 240 vehicles per hour (3600 seconds) at a specific vehicle arrival location on a highway.\n",
    "Assume that the arrivals follow the poisson distribution, What is the probability of one vehicle arriving over a 30-second time interval?"
   ]
  },
  {
   "cell_type": "code",
   "execution_count": 124,
   "id": "28d024f3",
   "metadata": {},
   "outputs": [
    {
     "name": "stdout",
     "output_type": "stream",
     "text": [
      "The probability of one vehicle arriving over a 30-second time interval: 0.2706705664732254\n"
     ]
    }
   ],
   "source": [
    "x=1\n",
    "mu= 2\n",
    "\n",
    "p1=poisson.pmf(x,mu)\n",
    "\n",
    "print('The probability of one vehicle arriving over a 30-second time interval:',p1)"
   ]
  },
  {
   "cell_type": "markdown",
   "id": "7fa4460f",
   "metadata": {},
   "source": [
    "Q3.Suppose that trees are distributed in a forest according to a Poisson process with a rate of λ per acre. The expected number of trees per acre is equal to 74.\n",
    "\n",
    "What is the probability that in a certain quarter-acre plot, there will be at most 15 trees?\n",
    "\n",
    "What is the probability that in a certain quarter-acre plot, there will be at least 7 trees?"
   ]
  },
  {
   "cell_type": "code",
   "execution_count": 127,
   "id": "89562c1f",
   "metadata": {},
   "outputs": [
    {
     "name": "stdout",
     "output_type": "stream",
     "text": [
      "The probability that in a certain quarter-acre plot, there will be at most 15 trees: 0.24902769151284776\n",
      "The probability that in a certain quarter-acre plot, there will be at least 7 trees: 0.9992622541111789\n"
     ]
    }
   ],
   "source": [
    "p = 0.25\n",
    "n = 74\n",
    "mu = n*p\n",
    "\n",
    "x1=15\n",
    "p1 = poisson.cdf(x1,mu)\n",
    "\n",
    "print(\"The probability that in a certain quarter-acre plot, there will be at most 15 trees:\",p1)\n",
    "\n",
    "# P(X >= 7) = 1 - P ( X ≤ 6)\n",
    "x2 = 6\n",
    "p2 = 1 - (poisson.cdf(x2,mu))\n",
    "\n",
    "print(\"The probability that in a certain quarter-acre plot, there will be at least 7 trees:\",p2)\n"
   ]
  },
  {
   "cell_type": "markdown",
   "id": "2620312b",
   "metadata": {},
   "source": [
    "Q4.You go to a party of 500 guests. What is the probability that exactly one other guest has the same birthday as you?\n",
    "\n",
    "Note: Exclude birthdays on February 29."
   ]
  },
  {
   "cell_type": "code",
   "execution_count": 128,
   "id": "e8df677e",
   "metadata": {},
   "outputs": [
    {
     "name": "stdout",
     "output_type": "stream",
     "text": [
      "The probability that exactly one other guest has the same birthday as you: 0.34839633781319934\n"
     ]
    }
   ],
   "source": [
    "p = 1/365\n",
    "n = 499\n",
    "mu = n * p\n",
    "x=1\n",
    "p1 = poisson.pmf(x,mu)\n",
    "\n",
    "print('The probability that exactly one other guest has the same birthday as you:',p1)"
   ]
  },
  {
   "cell_type": "markdown",
   "id": "88e45c31",
   "metadata": {},
   "source": [
    "# ClassWork/Notes of Advanced Distributions - 1"
   ]
  },
  {
   "cell_type": "markdown",
   "id": "43553ab0",
   "metadata": {},
   "source": [
    "More than/ At most is mentioned then => K= is same as questions"
   ]
  },
  {
   "cell_type": "markdown",
   "id": "7d3642ce",
   "metadata": {},
   "source": [
    "Less than/At least mentioned then =>K shoule be 1-K"
   ]
  },
  {
   "cell_type": "markdown",
   "id": "47a2d7b3",
   "metadata": {},
   "source": [
    "If Exact number is mentioned in questions then we have to use poisson.pmf(k,mu)"
   ]
  },
  {
   "cell_type": "markdown",
   "id": "4544ec8c",
   "metadata": {},
   "source": [
    "If atleast/atmost/greater/lesser is mentioned in questons then we have to use poisson.cdf(k,mu)"
   ]
  },
  {
   "cell_type": "code",
   "execution_count": null,
   "id": "f7a7d63f",
   "metadata": {},
   "outputs": [],
   "source": []
  }
 ],
 "metadata": {
  "kernelspec": {
   "display_name": "Python 3 (ipykernel)",
   "language": "python",
   "name": "python3"
  },
  "language_info": {
   "codemirror_mode": {
    "name": "ipython",
    "version": 3
   },
   "file_extension": ".py",
   "mimetype": "text/x-python",
   "name": "python",
   "nbconvert_exporter": "python",
   "pygments_lexer": "ipython3",
   "version": "3.11.4"
  }
 },
 "nbformat": 4,
 "nbformat_minor": 5
}
